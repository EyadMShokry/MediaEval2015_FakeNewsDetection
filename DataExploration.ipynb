{
 "cells": [
  {
   "cell_type": "markdown",
   "id": "9059ac73-2e5b-4c3f-8507-7f744eb58779",
   "metadata": {
    "tags": []
   },
   "source": [
    "# Data Exploration & Preproccessing"
   ]
  },
  {
   "cell_type": "markdown",
   "id": "159c83e6-f378-433a-b44f-f379671e0d61",
   "metadata": {},
   "source": [
    "## Importing necessary modules"
   ]
  },
  {
   "cell_type": "code",
   "execution_count": 3,
   "id": "c62198f8-9ee9-490f-9c0c-a92aa9a40c3d",
   "metadata": {},
   "outputs": [],
   "source": [
    "import pandas\n",
    "import numpy\n",
    "import re\n",
    "import nltk\n",
    "import matplotlib.pyplot as plt\n",
    "import time\n",
    "from autocorrect import Speller\n",
    "\n",
    "from langdetect import detect\n",
    "from googletrans import Translator"
   ]
  },
  {
   "cell_type": "markdown",
   "id": "0342ff99-687f-403e-bc11-b40b2d4c08c1",
   "metadata": {},
   "source": [
    "## Datasets Reading"
   ]
  },
  {
   "cell_type": "code",
   "execution_count": 5,
   "id": "f626e7c1-6109-4f93-9f8c-0885a0d58f2b",
   "metadata": {},
   "outputs": [],
   "source": [
    "trainData = pandas.read_csv(\"mediaeval-2015-trainingset.txt\", sep=\"\\t\")\n",
    "testData = pandas.read_csv(\"mediaeval-2015-testset.txt\", sep=\"\\t\")\n",
    "\n",
    "#Creating DataFrames for training and testing\n",
    "df_train = pandas.DataFrame(data = trainData)\n",
    "df_test = pandas.DataFrame(data = testData)"
   ]
  },
  {
   "cell_type": "markdown",
   "id": "56bf8250-5bd4-4cad-b7ee-5c9b67857f2d",
   "metadata": {},
   "source": [
    "## Training & Testing Data Characterization"
   ]
  },
  {
   "cell_type": "code",
   "execution_count": 24,
   "id": "71530d5c-25c6-465b-9513-72b900be8dc8",
   "metadata": {},
   "outputs": [
    {
     "data": {
      "text/html": [
       "<div>\n",
       "<style scoped>\n",
       "    .dataframe tbody tr th:only-of-type {\n",
       "        vertical-align: middle;\n",
       "    }\n",
       "\n",
       "    .dataframe tbody tr th {\n",
       "        vertical-align: top;\n",
       "    }\n",
       "\n",
       "    .dataframe thead th {\n",
       "        text-align: right;\n",
       "    }\n",
       "</style>\n",
       "<table border=\"1\" class=\"dataframe\">\n",
       "  <thead>\n",
       "    <tr style=\"text-align: right;\">\n",
       "      <th></th>\n",
       "      <th>tweetId</th>\n",
       "      <th>tweetText</th>\n",
       "      <th>userId</th>\n",
       "      <th>imageId(s)</th>\n",
       "      <th>username</th>\n",
       "      <th>timestamp</th>\n",
       "      <th>label</th>\n",
       "    </tr>\n",
       "  </thead>\n",
       "  <tbody>\n",
       "    <tr>\n",
       "      <th>0</th>\n",
       "      <td>263046056240115712</td>\n",
       "      <td>¿Se acuerdan de la película: “El día después d...</td>\n",
       "      <td>21226711</td>\n",
       "      <td>sandyA_fake_46</td>\n",
       "      <td>iAnnieM</td>\n",
       "      <td>Mon Oct 29 22:34:01 +0000 2012</td>\n",
       "      <td>fake</td>\n",
       "    </tr>\n",
       "    <tr>\n",
       "      <th>1</th>\n",
       "      <td>262995061304852481</td>\n",
       "      <td>@milenagimon: Miren a Sandy en NY!  Tremenda i...</td>\n",
       "      <td>192378571</td>\n",
       "      <td>sandyA_fake_09</td>\n",
       "      <td>CarlosVerareal</td>\n",
       "      <td>Mon Oct 29 19:11:23 +0000 2012</td>\n",
       "      <td>fake</td>\n",
       "    </tr>\n",
       "    <tr>\n",
       "      <th>2</th>\n",
       "      <td>262979898002534400</td>\n",
       "      <td>Buena la foto del Huracán Sandy, me recuerda a...</td>\n",
       "      <td>132303095</td>\n",
       "      <td>sandyA_fake_09</td>\n",
       "      <td>LucasPalape</td>\n",
       "      <td>Mon Oct 29 18:11:08 +0000 2012</td>\n",
       "      <td>fake</td>\n",
       "    </tr>\n",
       "    <tr>\n",
       "      <th>3</th>\n",
       "      <td>262996108400271360</td>\n",
       "      <td>Scary shit #hurricane #NY http://t.co/e4JLBUfH</td>\n",
       "      <td>241995902</td>\n",
       "      <td>sandyA_fake_29</td>\n",
       "      <td>Haaaaarryyy</td>\n",
       "      <td>Mon Oct 29 19:15:33 +0000 2012</td>\n",
       "      <td>fake</td>\n",
       "    </tr>\n",
       "    <tr>\n",
       "      <th>4</th>\n",
       "      <td>263018881839411200</td>\n",
       "      <td>My fave place in the world #nyc #hurricane #sa...</td>\n",
       "      <td>250315890</td>\n",
       "      <td>sandyA_fake_15</td>\n",
       "      <td>princess__natt</td>\n",
       "      <td>Mon Oct 29 20:46:02 +0000 2012</td>\n",
       "      <td>fake</td>\n",
       "    </tr>\n",
       "  </tbody>\n",
       "</table>\n",
       "</div>"
      ],
      "text/plain": [
       "              tweetId                                          tweetText  \\\n",
       "0  263046056240115712  ¿Se acuerdan de la película: “El día después d...   \n",
       "1  262995061304852481  @milenagimon: Miren a Sandy en NY!  Tremenda i...   \n",
       "2  262979898002534400  Buena la foto del Huracán Sandy, me recuerda a...   \n",
       "3  262996108400271360     Scary shit #hurricane #NY http://t.co/e4JLBUfH   \n",
       "4  263018881839411200  My fave place in the world #nyc #hurricane #sa...   \n",
       "\n",
       "      userId      imageId(s)        username                       timestamp  \\\n",
       "0   21226711  sandyA_fake_46         iAnnieM  Mon Oct 29 22:34:01 +0000 2012   \n",
       "1  192378571  sandyA_fake_09  CarlosVerareal  Mon Oct 29 19:11:23 +0000 2012   \n",
       "2  132303095  sandyA_fake_09     LucasPalape  Mon Oct 29 18:11:08 +0000 2012   \n",
       "3  241995902  sandyA_fake_29     Haaaaarryyy  Mon Oct 29 19:15:33 +0000 2012   \n",
       "4  250315890  sandyA_fake_15  princess__natt  Mon Oct 29 20:46:02 +0000 2012   \n",
       "\n",
       "  label  \n",
       "0  fake  \n",
       "1  fake  \n",
       "2  fake  \n",
       "3  fake  \n",
       "4  fake  "
      ]
     },
     "execution_count": 24,
     "metadata": {},
     "output_type": "execute_result"
    }
   ],
   "source": [
    "trainData.head()"
   ]
  },
  {
   "cell_type": "code",
   "execution_count": 25,
   "id": "13b48cc7-7204-4164-815f-4de17068354f",
   "metadata": {},
   "outputs": [
    {
     "data": {
      "text/html": [
       "<div>\n",
       "<style scoped>\n",
       "    .dataframe tbody tr th:only-of-type {\n",
       "        vertical-align: middle;\n",
       "    }\n",
       "\n",
       "    .dataframe tbody tr th {\n",
       "        vertical-align: top;\n",
       "    }\n",
       "\n",
       "    .dataframe thead th {\n",
       "        text-align: right;\n",
       "    }\n",
       "</style>\n",
       "<table border=\"1\" class=\"dataframe\">\n",
       "  <thead>\n",
       "    <tr style=\"text-align: right;\">\n",
       "      <th></th>\n",
       "      <th>tweetId</th>\n",
       "      <th>tweetText</th>\n",
       "      <th>userId</th>\n",
       "      <th>imageId(s)</th>\n",
       "      <th>username</th>\n",
       "      <th>timestamp</th>\n",
       "      <th>label</th>\n",
       "    </tr>\n",
       "  </thead>\n",
       "  <tbody>\n",
       "    <tr>\n",
       "      <th>0</th>\n",
       "      <td>578854927457349632</td>\n",
       "      <td>kereeen RT @Shyman33: Eclipse from ISS.... htt...</td>\n",
       "      <td>70824972</td>\n",
       "      <td>eclipse_01</td>\n",
       "      <td>peay_s</td>\n",
       "      <td>Fri Mar 20 09:45:43 +0000 2015</td>\n",
       "      <td>fake</td>\n",
       "    </tr>\n",
       "    <tr>\n",
       "      <th>1</th>\n",
       "      <td>578874632670953472</td>\n",
       "      <td>Absolutely beautiful! RT @Shyman33: Eclipse fr...</td>\n",
       "      <td>344707006</td>\n",
       "      <td>eclipse_01</td>\n",
       "      <td>JaredUcanChange</td>\n",
       "      <td>Fri Mar 20 11:04:02 +0000 2015</td>\n",
       "      <td>fake</td>\n",
       "    </tr>\n",
       "    <tr>\n",
       "      <th>2</th>\n",
       "      <td>578891261353984000</td>\n",
       "      <td>“@Shyman33: Eclipse from ISS.... http://t.co/C...</td>\n",
       "      <td>224839607</td>\n",
       "      <td>eclipse_01</td>\n",
       "      <td>tpjp1231</td>\n",
       "      <td>Fri Mar 20 12:10:06 +0000 2015</td>\n",
       "      <td>fake</td>\n",
       "    </tr>\n",
       "    <tr>\n",
       "      <th>3</th>\n",
       "      <td>578846612312748032</td>\n",
       "      <td>Eclipse from ISS.... http://t.co/En87OtvsU6</td>\n",
       "      <td>134543073</td>\n",
       "      <td>eclipse_01</td>\n",
       "      <td>Shyman33</td>\n",
       "      <td>Fri Mar 20 09:12:41 +0000 2015</td>\n",
       "      <td>fake</td>\n",
       "    </tr>\n",
       "    <tr>\n",
       "      <th>4</th>\n",
       "      <td>578975333841551360</td>\n",
       "      <td>@ebonfigli: Éclipse vue de l'ISS... Autre chos...</td>\n",
       "      <td>1150728872</td>\n",
       "      <td>eclipse_01</td>\n",
       "      <td>Epimethee_</td>\n",
       "      <td>Fri Mar 20 17:44:11 +0000 2015</td>\n",
       "      <td>fake</td>\n",
       "    </tr>\n",
       "  </tbody>\n",
       "</table>\n",
       "</div>"
      ],
      "text/plain": [
       "              tweetId                                          tweetText  \\\n",
       "0  578854927457349632  kereeen RT @Shyman33: Eclipse from ISS.... htt...   \n",
       "1  578874632670953472  Absolutely beautiful! RT @Shyman33: Eclipse fr...   \n",
       "2  578891261353984000  “@Shyman33: Eclipse from ISS.... http://t.co/C...   \n",
       "3  578846612312748032        Eclipse from ISS.... http://t.co/En87OtvsU6   \n",
       "4  578975333841551360  @ebonfigli: Éclipse vue de l'ISS... Autre chos...   \n",
       "\n",
       "       userId   imageId(s)         username                       timestamp  \\\n",
       "0    70824972  eclipse_01            peay_s  Fri Mar 20 09:45:43 +0000 2015   \n",
       "1   344707006  eclipse_01   JaredUcanChange  Fri Mar 20 11:04:02 +0000 2015   \n",
       "2   224839607  eclipse_01          tpjp1231  Fri Mar 20 12:10:06 +0000 2015   \n",
       "3   134543073  eclipse_01          Shyman33  Fri Mar 20 09:12:41 +0000 2015   \n",
       "4  1150728872   eclipse_01       Epimethee_  Fri Mar 20 17:44:11 +0000 2015   \n",
       "\n",
       "  label  \n",
       "0  fake  \n",
       "1  fake  \n",
       "2  fake  \n",
       "3  fake  \n",
       "4  fake  "
      ]
     },
     "execution_count": 25,
     "metadata": {},
     "output_type": "execute_result"
    }
   ],
   "source": [
    "testData.head()"
   ]
  },
  {
   "cell_type": "code",
   "execution_count": 26,
   "id": "2bb70a76-6125-4ad0-9c9f-76769085286c",
   "metadata": {},
   "outputs": [
    {
     "data": {
      "text/plain": [
       "(14277, 7)"
      ]
     },
     "execution_count": 26,
     "metadata": {},
     "output_type": "execute_result"
    }
   ],
   "source": [
    "df_train.shape"
   ]
  },
  {
   "cell_type": "code",
   "execution_count": 27,
   "id": "429174ee-54cf-4806-b4c0-367ea06623f2",
   "metadata": {},
   "outputs": [
    {
     "data": {
      "text/plain": [
       "(3755, 7)"
      ]
     },
     "execution_count": 27,
     "metadata": {},
     "output_type": "execute_result"
    }
   ],
   "source": [
    "df_test.shape"
   ]
  },
  {
   "cell_type": "code",
   "execution_count": 28,
   "id": "03e18849-60e1-4293-8e0f-f0425246c5a5",
   "metadata": {},
   "outputs": [
    {
     "data": {
      "text/html": [
       "<div>\n",
       "<style scoped>\n",
       "    .dataframe tbody tr th:only-of-type {\n",
       "        vertical-align: middle;\n",
       "    }\n",
       "\n",
       "    .dataframe tbody tr th {\n",
       "        vertical-align: top;\n",
       "    }\n",
       "\n",
       "    .dataframe thead th {\n",
       "        text-align: right;\n",
       "    }\n",
       "</style>\n",
       "<table border=\"1\" class=\"dataframe\">\n",
       "  <thead>\n",
       "    <tr style=\"text-align: right;\">\n",
       "      <th></th>\n",
       "      <th>tweetText</th>\n",
       "      <th>imageId(s)</th>\n",
       "      <th>username</th>\n",
       "      <th>timestamp</th>\n",
       "      <th>label</th>\n",
       "    </tr>\n",
       "  </thead>\n",
       "  <tbody>\n",
       "    <tr>\n",
       "      <th>count</th>\n",
       "      <td>14277</td>\n",
       "      <td>14277</td>\n",
       "      <td>14277</td>\n",
       "      <td>14277</td>\n",
       "      <td>14277</td>\n",
       "    </tr>\n",
       "    <tr>\n",
       "      <th>unique</th>\n",
       "      <td>12376</td>\n",
       "      <td>377</td>\n",
       "      <td>13498</td>\n",
       "      <td>13909</td>\n",
       "      <td>3</td>\n",
       "    </tr>\n",
       "    <tr>\n",
       "      <th>top</th>\n",
       "      <td>Unbelievable scene flying over #StatenIsland i...</td>\n",
       "      <td>sandyA_fake_29</td>\n",
       "      <td>SAGandAFTRA</td>\n",
       "      <td>Tue Oct 30 00:31:14 +0000 2012</td>\n",
       "      <td>fake</td>\n",
       "    </tr>\n",
       "    <tr>\n",
       "      <th>freq</th>\n",
       "      <td>42</td>\n",
       "      <td>1100</td>\n",
       "      <td>16</td>\n",
       "      <td>4</td>\n",
       "      <td>6742</td>\n",
       "    </tr>\n",
       "  </tbody>\n",
       "</table>\n",
       "</div>"
      ],
      "text/plain": [
       "                                                tweetText      imageId(s)  \\\n",
       "count                                               14277           14277   \n",
       "unique                                              12376             377   \n",
       "top     Unbelievable scene flying over #StatenIsland i...  sandyA_fake_29   \n",
       "freq                                                   42            1100   \n",
       "\n",
       "           username                       timestamp  label  \n",
       "count         14277                           14277  14277  \n",
       "unique        13498                           13909      3  \n",
       "top     SAGandAFTRA  Tue Oct 30 00:31:14 +0000 2012   fake  \n",
       "freq             16                               4   6742  "
      ]
     },
     "execution_count": 28,
     "metadata": {},
     "output_type": "execute_result"
    }
   ],
   "source": [
    "trainData.describe(include=object)"
   ]
  },
  {
   "cell_type": "code",
   "execution_count": 29,
   "id": "7bc34c8e-a41f-4a84-b60a-06440459d5ea",
   "metadata": {},
   "outputs": [
    {
     "data": {
      "text/html": [
       "<div>\n",
       "<style scoped>\n",
       "    .dataframe tbody tr th:only-of-type {\n",
       "        vertical-align: middle;\n",
       "    }\n",
       "\n",
       "    .dataframe tbody tr th {\n",
       "        vertical-align: top;\n",
       "    }\n",
       "\n",
       "    .dataframe thead th {\n",
       "        text-align: right;\n",
       "    }\n",
       "</style>\n",
       "<table border=\"1\" class=\"dataframe\">\n",
       "  <thead>\n",
       "    <tr style=\"text-align: right;\">\n",
       "      <th></th>\n",
       "      <th>tweetText</th>\n",
       "      <th>imageId(s)</th>\n",
       "      <th>username</th>\n",
       "      <th>timestamp</th>\n",
       "      <th>label</th>\n",
       "    </tr>\n",
       "  </thead>\n",
       "  <tbody>\n",
       "    <tr>\n",
       "      <th>count</th>\n",
       "      <td>3755</td>\n",
       "      <td>3755</td>\n",
       "      <td>3755</td>\n",
       "      <td>3755</td>\n",
       "      <td>3755</td>\n",
       "    </tr>\n",
       "    <tr>\n",
       "      <th>unique</th>\n",
       "      <td>3706</td>\n",
       "      <td>88</td>\n",
       "      <td>3553</td>\n",
       "      <td>3449</td>\n",
       "      <td>2</td>\n",
       "    </tr>\n",
       "    <tr>\n",
       "      <th>top</th>\n",
       "      <td>J'aime une vidéo @YouTube : \"SYRIA! SYRIAN HER...</td>\n",
       "      <td>syrianboy_1</td>\n",
       "      <td>_WTFVideos</td>\n",
       "      <td>Sat Apr 25 18:05:05 +0000 2015</td>\n",
       "      <td>fake</td>\n",
       "    </tr>\n",
       "    <tr>\n",
       "      <th>freq</th>\n",
       "      <td>4</td>\n",
       "      <td>1769</td>\n",
       "      <td>23</td>\n",
       "      <td>13</td>\n",
       "      <td>2546</td>\n",
       "    </tr>\n",
       "  </tbody>\n",
       "</table>\n",
       "</div>"
      ],
      "text/plain": [
       "                                                tweetText   imageId(s)  \\\n",
       "count                                                3755         3755   \n",
       "unique                                               3706           88   \n",
       "top     J'aime une vidéo @YouTube : \"SYRIA! SYRIAN HER...  syrianboy_1   \n",
       "freq                                                    4         1769   \n",
       "\n",
       "          username                       timestamp label  \n",
       "count         3755                            3755  3755  \n",
       "unique        3553                            3449     2  \n",
       "top     _WTFVideos  Sat Apr 25 18:05:05 +0000 2015  fake  \n",
       "freq            23                              13  2546  "
      ]
     },
     "execution_count": 29,
     "metadata": {},
     "output_type": "execute_result"
    }
   ],
   "source": [
    "testData.describe(include=object)"
   ]
  },
  {
   "cell_type": "code",
   "execution_count": 11,
   "id": "99c680fa-8914-4536-95ca-15b3a7e37808",
   "metadata": {},
   "outputs": [
    {
     "name": "stdout",
     "output_type": "stream",
     "text": [
      "<class 'pandas.core.frame.DataFrame'>\n",
      "RangeIndex: 14277 entries, 0 to 14276\n",
      "Data columns (total 7 columns):\n",
      " #   Column      Non-Null Count  Dtype \n",
      "---  ------      --------------  ----- \n",
      " 0   tweetId     14277 non-null  int64 \n",
      " 1   tweetText   14277 non-null  object\n",
      " 2   userId      14277 non-null  int64 \n",
      " 3   imageId(s)  14277 non-null  object\n",
      " 4   username    14277 non-null  object\n",
      " 5   timestamp   14277 non-null  object\n",
      " 6   label       14277 non-null  object\n",
      "dtypes: int64(2), object(5)\n",
      "memory usage: 780.9+ KB\n"
     ]
    }
   ],
   "source": [
    "trainData.info()"
   ]
  },
  {
   "cell_type": "code",
   "execution_count": 12,
   "id": "1062442e-93ff-4367-923f-ecf96c71ef14",
   "metadata": {},
   "outputs": [
    {
     "name": "stdout",
     "output_type": "stream",
     "text": [
      "<class 'pandas.core.frame.DataFrame'>\n",
      "RangeIndex: 3755 entries, 0 to 3754\n",
      "Data columns (total 7 columns):\n",
      " #   Column      Non-Null Count  Dtype \n",
      "---  ------      --------------  ----- \n",
      " 0   tweetId     3755 non-null   int64 \n",
      " 1   tweetText   3755 non-null   object\n",
      " 2   userId      3755 non-null   int64 \n",
      " 3   imageId(s)  3755 non-null   object\n",
      " 4   username    3755 non-null   object\n",
      " 5   timestamp   3755 non-null   object\n",
      " 6   label       3755 non-null   object\n",
      "dtypes: int64(2), object(5)\n",
      "memory usage: 205.5+ KB\n"
     ]
    }
   ],
   "source": [
    "testData.info()"
   ]
  },
  {
   "cell_type": "code",
   "execution_count": 13,
   "id": "916776c6-e9c2-4828-82c1-3607ced9bfec",
   "metadata": {},
   "outputs": [
    {
     "data": {
      "text/plain": [
       "0"
      ]
     },
     "execution_count": 13,
     "metadata": {},
     "output_type": "execute_result"
    }
   ],
   "source": [
    "# Checking if any null value in training data\n",
    "df_train.isnull().sum().sum()"
   ]
  },
  {
   "cell_type": "code",
   "execution_count": 14,
   "id": "fba8c2c7-1057-434e-8c99-52076a09d4d8",
   "metadata": {},
   "outputs": [
    {
     "data": {
      "text/plain": [
       "0"
      ]
     },
     "execution_count": 14,
     "metadata": {},
     "output_type": "execute_result"
    }
   ],
   "source": [
    "# Checking if any null value in testing data\n",
    "df_test.isnull().sum().sum()"
   ]
  },
  {
   "cell_type": "markdown",
   "id": "0ca445fe-22a9-49d7-8625-0a537e9749e6",
   "metadata": {},
   "source": [
    "#### Covered Events Determination"
   ]
  },
  {
   "cell_type": "markdown",
   "id": "53fc2e5b-bde5-4ab0-8b37-2cefacee1787",
   "metadata": {},
   "source": [
    "- we noticed from the images names column that each image is related to a specific event or place. So we will try to represent the covered events and their frequency by image names in training data."
   ]
  },
  {
   "cell_type": "code",
   "execution_count": 72,
   "id": "6c0926b6-c26d-4997-a612-b77f1d264b17",
   "metadata": {},
   "outputs": [
    {
     "name": "stdout",
     "output_type": "stream",
     "text": [
      "imgs\n",
      "boston                 546\n",
      "bringback              131\n",
      "columbianChemicals     185\n",
      "elephant                13\n",
      "livr                     9\n",
      "malaysia               501\n",
      "passport                46\n",
      "pigFish                 14\n",
      "sandyA                9695\n",
      "sandyB                2621\n",
      "sochi                  402\n",
      "underwater             112\n",
      "Name: tweetId, dtype: int64\n"
     ]
    },
    {
     "data": {
      "image/png": "[encoded data removed]",
      "text/plain": [
       "<Figure size 640x480 with 1 Axes>"
      ]
     },
     "metadata": {},
     "output_type": "display_data"
    }
   ],
   "source": [
    "df_train.rename(columns = {'imageId(s)':'imgs'}, inplace = True)\n",
    "imgCount = df_train.groupby(df_train.imgs.str.split('_').str[0])['tweetId'].nunique()\n",
    "print (imgCount)\n",
    "\n",
    "# Plot a bar chart of the frequencies\n",
    "imgCount.plot(kind='bar')\n",
    "plt.tight_layout()"
   ]
  },
  {
   "cell_type": "markdown",
   "id": "0390b2d7-acdf-44d0-aad0-2a7dad978434",
   "metadata": {},
   "source": [
    "- The Covered events for testing data:"
   ]
  },
  {
   "cell_type": "code",
   "execution_count": 73,
   "id": "e1633df1-70fc-44cb-819a-97fb7be813a8",
   "metadata": {},
   "outputs": [
    {
     "name": "stdout",
     "output_type": "stream",
     "text": [
      "imgs\n",
      "eclipse        277\n",
      "garissa         77\n",
      "nepal         1353\n",
      "samurai        218\n",
      "syrianboy     1769\n",
      "varoufakis      61\n",
      "Name: tweetId, dtype: int64\n"
     ]
    },
    {
     "data": {
      "image/png": "[encoded data removed]",
      "text/plain": [
       "<Figure size 640x480 with 1 Axes>"
      ]
     },
     "metadata": {},
     "output_type": "display_data"
    }
   ],
   "source": [
    "df_test.rename(columns = {'imageId(s)':'imgs'}, inplace = True)\n",
    "imgCount = df_test.groupby(df_test.imgs.str.split('_').str[0])['tweetId'].nunique()\n",
    "print (imgCount)\n",
    "\n",
    "# Plot a bar chart of the frequencies\n",
    "imgCount.plot(kind='bar')\n",
    "plt.tight_layout()"
   ]
  },
  {
   "cell_type": "markdown",
   "id": "6497c0f4-955a-4a14-9cd2-95d4b469b04f",
   "metadata": {},
   "source": [
    "#### Count of real & fake labels"
   ]
  },
  {
   "cell_type": "code",
   "execution_count": 30,
   "id": "689635ab-5b3b-4f43-9e53-9e4a0e6a7ae3",
   "metadata": {},
   "outputs": [
    {
     "name": "stdout",
     "output_type": "stream",
     "text": [
      "fake labels count in training dataset:  6742\n",
      "humor labels count in training dataset:  2614\n",
      "real labels count in training dataset:  4921\n",
      "---------------------------------------------\n",
      "fake labels count in testing dataset:  2546\n",
      "humor labels count in testing dataset:  0\n",
      "real labels count in testing dataset:  1209\n"
     ]
    },
    {
     "data": {
      "image/png": "[encoded data removed]",
      "text/plain": [
       "<Figure size 640x480 with 1 Axes>"
      ]
     },
     "metadata": {},
     "output_type": "display_data"
    }
   ],
   "source": [
    "training_fake_labels_count = (df_train.label=='fake').sum()\n",
    "training_humor_labels_count = (df_train.label=='humor').sum()\n",
    "training_real_labels_count = (df_train.label=='real').sum()\n",
    "print('fake labels count in training dataset: ',training_fake_labels_count)\n",
    "print('humor labels count in training dataset: ',training_humor_labels_count)\n",
    "print('real labels count in training dataset: ',training_real_labels_count)\n",
    "training_hist = df_train['label'].hist()\n",
    "print(\"-\"*45)\n",
    "testing_fake_labels_count = (df_test.label=='fake').sum()\n",
    "testing_humor_labels_count = (df_test.label=='humor').sum()\n",
    "testing_real_labels_count = (df_test.label=='real').sum()\n",
    "print('fake labels count in testing dataset: ', testing_fake_labels_count)\n",
    "print('humor labels count in testing dataset: ', testing_humor_labels_count)\n",
    "print('real labels count in testing dataset: ', testing_real_labels_count)\n",
    "testing_hist = df_test['label'].hist()"
   ]
  },
  {
   "cell_type": "markdown",
   "id": "02acc644-a65a-4562-9b2e-1b2555fb40f4",
   "metadata": {},
   "source": [
    "#### Number of different languages found in training & testing datasets"
   ]
  },
  {
   "cell_type": "code",
   "execution_count": 75,
   "id": "b2e4787a-1247-4197-b003-e13070f1a389",
   "metadata": {},
   "outputs": [
    {
     "name": "stdout",
     "output_type": "stream",
     "text": [
      "languages of traning dataset:\n",
      " en        10965\n",
      "es         1308\n",
      "tl          311\n",
      "fr          217\n",
      "id          176\n",
      "pt          156\n",
      "de          126\n",
      "so          119\n",
      "cy          113\n",
      "it          101\n",
      "nl           91\n",
      "ar           79\n",
      "af           65\n",
      "ru           61\n",
      "sv           50\n",
      "no           36\n",
      "pl           35\n",
      "tr           32\n",
      "ca           30\n",
      "da           27\n",
      "ja           20\n",
      "th           19\n",
      "fi           13\n",
      "sk           13\n",
      "et           12\n",
      "vi           12\n",
      "sw           11\n",
      "zh-cn        10\n",
      "bg            9\n",
      "ro            7\n",
      "ko            6\n",
      "sl            6\n",
      "hu            6\n",
      "hr            6\n",
      "sq            6\n",
      "lt            5\n",
      "el            5\n",
      "fa            4\n",
      "cs            2\n",
      "lv            2\n",
      "unkown        2\n",
      "he            1\n",
      "mk            1\n",
      "hi            1\n",
      "Name: tweetText, dtype: int64\n"
     ]
    },
    {
     "data": {
      "image/png": "[encoded data removed]",
      "text/plain": [
       "<Figure size 640x480 with 1 Axes>"
      ]
     },
     "metadata": {},
     "output_type": "display_data"
    }
   ],
   "source": [
    "def lang_detect(text):\n",
    "    try:\n",
    "        detected_text = detect(text)\n",
    "        return detected_text\n",
    "    except:\n",
    "        return \"unkown\"\n",
    "training_languages_count = df_train['tweetText'].apply(lambda x: lang_detect(x))\n",
    "print('languages of traning dataset:\\n', training_languages_count.value_counts())\n",
    "\n",
    "# Plot a bar chart of the frequencies\n",
    "training_languages_count.value_counts().plot(kind='bar')\n",
    "plt.tight_layout()"
   ]
  },
  {
   "cell_type": "code",
   "execution_count": 76,
   "id": "3c3f2273-d09a-4ee2-aeb3-72065a0b61db",
   "metadata": {},
   "outputs": [
    {
     "name": "stdout",
     "output_type": "stream",
     "text": [
      "languages of testing dataset:\n",
      " en    2791\n",
      "so     503\n",
      "ar     175\n",
      "es      61\n",
      "de      41\n",
      "pt      38\n",
      "fr      34\n",
      "nl      21\n",
      "it      18\n",
      "tr      12\n",
      "sq       6\n",
      "id       6\n",
      "hi       5\n",
      "cy       5\n",
      "ca       5\n",
      "fi       4\n",
      "sv       3\n",
      "el       3\n",
      "vi       3\n",
      "th       2\n",
      "ro       2\n",
      "ja       2\n",
      "pl       2\n",
      "af       2\n",
      "te       2\n",
      "tl       2\n",
      "et       1\n",
      "ru       1\n",
      "ko       1\n",
      "bg       1\n",
      "ta       1\n",
      "lt       1\n",
      "hr       1\n",
      "Name: tweetText, dtype: int64\n"
     ]
    },
    {
     "data": {
      "image/png": "[encoded data removed]",
      "text/plain": [
       "<Figure size 640x480 with 1 Axes>"
      ]
     },
     "metadata": {},
     "output_type": "display_data"
    }
   ],
   "source": [
    "testing_languages_count = df_test['tweetText'].apply(lambda x: lang_detect(x))\n",
    "print('languages of testing dataset:\\n', testing_languages_count.value_counts())\n",
    "\n",
    "# Plot a bar chart of the frequencies\n",
    "testing_languages_count.value_counts().plot(kind='bar')\n",
    "plt.tight_layout()"
   ]
  },
  {
   "cell_type": "markdown",
   "id": "052d4c48-5af1-4e95-b01f-57bf8eef85ad",
   "metadata": {},
   "source": [
    "##### We may need to translate all different languages to English to unify our dataset"
   ]
  },
  {
   "cell_type": "markdown",
   "id": "4d2323f8-3f01-42ed-a06d-c573a5b6f67d",
   "metadata": {},
   "source": [
    "#### Tweets Weekdays count"
   ]
  },
  {
   "cell_type": "code",
   "execution_count": 32,
   "id": "75bd788b-92e8-4cfe-8e03-b049bcb7a34a",
   "metadata": {},
   "outputs": [
    {
     "data": {
      "text/plain": [
       "<AxesSubplot: >"
      ]
     },
     "execution_count": 32,
     "metadata": {},
     "output_type": "execute_result"
    },
    {
     "data": {
      "image/png": "[encoded data removed]",
      "text/plain": [
       "<Figure size 640x480 with 1 Axes>"
      ]
     },
     "metadata": {},
     "output_type": "display_data"
    }
   ],
   "source": [
    "weekdays = df_train['timestamp'].apply(lambda x: x.split()[0])\n",
    "weekdays.value_counts().plot.bar()"
   ]
  },
  {
   "cell_type": "markdown",
   "id": "4aedd7af-3dc4-4a26-b0c0-9859845e943c",
   "metadata": {},
   "source": [
    "## Data Preproccessing"
   ]
  },
  {
   "cell_type": "markdown",
   "id": "6bc1f8f4-abe1-49ef-a0e7-6c1515629c21",
   "metadata": {},
   "source": [
    "#### Changing Humor Label to Fake Label"
   ]
  },
  {
   "cell_type": "code",
   "execution_count": 7,
   "id": "cc7436b0-bbbc-4d1a-9d6d-4c65333fd504",
   "metadata": {},
   "outputs": [],
   "source": [
    "df_train.loc[(df_train.label == 'humor'),'label'] = 'fake'\n",
    "df_test.loc[(df_test.label == 'humor'),'label'] = 'fake'"
   ]
  },
  {
   "cell_type": "markdown",
   "id": "6c9e3f11-29e0-423c-bac6-caeb756a161a",
   "metadata": {},
   "source": [
    "#### Removing URLs"
   ]
  },
  {
   "cell_type": "code",
   "execution_count": 8,
   "id": "a6f4451d-9aee-4881-8364-e4138b805634",
   "metadata": {},
   "outputs": [
    {
     "data": {
      "text/plain": [
       "0    ¿Se acuerdan de la película: “El día después de mañana”? Me recuerda a lo que está pasando con el huracán #Sandy. \n",
       "1     @milenagimon: Miren a Sandy en NY!  Tremenda imagen del huracán. Parece el \"Día de la Independencia 2\"  REAL! RT.\n",
       "2                      Buena la foto del Huracán Sandy, me recuerda a la película Día de la Independencia #ID4 #Sandy  \n",
       "3                                                                                            Scary shit #hurricane #NY \n",
       "4                                                 My fave place in the world #nyc #hurricane #sandy #statueofliberty 🗽 \n",
       "5                                                                           42nd #time #square #NYC #subway #hurricane \n",
       "6                                               Just in time for #halloween a photo of #hurricane #sandy #frankenstorm \n",
       "7                                Crazy pic of #Hurricane #Sandy prayers go out to family and friends on the East Coast \n",
       "8                                                                     #sandy #newyork #hurricane #statueofliberty #USA \n",
       "9                                                                                                      #nyc #hurricane \n",
       "Name: tweetText, dtype: object"
      ]
     },
     "execution_count": 8,
     "metadata": {},
     "output_type": "execute_result"
    }
   ],
   "source": [
    "def removeURLs(text):\n",
    "    tweet = re.sub(r'http\\S+','', text)\n",
    "    return tweet\n",
    "\n",
    "df_train['tweetText']= df_train['tweetText'].apply(lambda x: removeURLs(x))\n",
    "df_test['tweetText'] = df_test['tweetText'].apply(lambda x: removeURLs(x))\n",
    "\n",
    "pandas.set_option('display.max_colwidth', None) #allows you to see full fields\n",
    "df_train['tweetText'].head(10)"
   ]
  },
  {
   "cell_type": "markdown",
   "id": "624789a9-3e39-49d5-9520-cae394cfbfd7",
   "metadata": {},
   "source": [
    "#### Preparing for translation"
   ]
  },
  {
   "cell_type": "code",
   "execution_count": 9,
   "id": "b2771102-99d6-48fd-bb7e-76b988a3978d",
   "metadata": {},
   "outputs": [],
   "source": [
    "def translate_tweet(text):\n",
    "    translator = Translator()\n",
    "    translator.raise_Exception = True\n",
    "    try:\n",
    "        translation = translator.translate(text, dest='en').text\n",
    "        return translation\n",
    "    except:\n",
    "        return text"
   ]
  },
  {
   "cell_type": "markdown",
   "id": "6e8bb6dc-5b4d-4c00-9c1d-aa6082a50f2d",
   "metadata": {},
   "source": [
    "#### Text Cleaning & Translation"
   ]
  },
  {
   "cell_type": "code",
   "execution_count": 17,
   "id": "93d6e7ac-97f2-4653-9ed1-70f4730c7a1c",
   "metadata": {},
   "outputs": [],
   "source": [
    "#remove non word characters, &amp, new line indicators, convert to same case and translate\n",
    "def clean_text(tweet):\n",
    "    tweet = re.sub(r'&\\S+', '', tweet) # remove '&amp'\n",
    "    tweet = tweet.replace(\"\\\\n\",'') # remove end of line signs '\\n'\n",
    "    tweet = re.sub(r'[^\\w\\s]','',tweet) # remove non word characters\n",
    "    tweet = re.sub(r'@\\w*', \"\", tweet) # remove usernames\n",
    "    tweet = tweet.lower() #convert to lower case\n",
    "    tweet = re.sub(r'[0-9]','',tweet) #remove numbers\n",
    "    emojis = re.compile(\"[\"\n",
    "                    u\"\\U0001F600-\\U0001F64F\"\n",
    "                    u\"\\U0001F300-\\U0001F5FF\"\n",
    "                    u\"\\U0001F680-\\U0001F6FF\"\n",
    "                    u\"\\U0001F1E0-\\U0001F1FF\"\n",
    "                    u\"\\U00002702-\\U000027B0\"\n",
    "                    u\"\\U000024C2-\\U0001F251\"\n",
    "                    \"]+\", flags=re.UNICODE)\n",
    "    tweet = emojis.sub(r'', tweet) if emojis.search(tweet) else tweet # remove emojis\n",
    "    \n",
    "    \"\"\"\n",
    "    I run the translation function in a separated script so I could track and save the output csv file.\n",
    "    So, Please don't run translate_tweet() on the whole dataset here, because it'll take too long time.\n",
    "    \"\"\"\n",
    "    # if lang_detect(tweet) != 'en':\n",
    "    #     tweet = translate_tweet(tweet) #translate to english\n",
    "    return tweet"
   ]
  },
  {
   "cell_type": "code",
   "execution_count": 11,
   "id": "e79dcb4a-b490-4129-9a95-7bafe771e803",
   "metadata": {},
   "outputs": [
    {
     "name": "stdout",
     "output_type": "stream",
     "text": [
      "raw data sample:  ¿Se acuerdan de la película: “El día después de mañana”? Me recuerda a lo que está pasando con el huracán #Sandy. \n",
      "after cleaning:  se acuerdan de la película el día después de mañana me recuerda a lo que está pasando con el huracán sandy \n"
     ]
    },
    {
     "data": {
      "text/html": [
       "<div>\n",
       "<style scoped>\n",
       "    .dataframe tbody tr th:only-of-type {\n",
       "        vertical-align: middle;\n",
       "    }\n",
       "\n",
       "    .dataframe tbody tr th {\n",
       "        vertical-align: top;\n",
       "    }\n",
       "\n",
       "    .dataframe thead th {\n",
       "        text-align: right;\n",
       "    }\n",
       "</style>\n",
       "<table border=\"1\" class=\"dataframe\">\n",
       "  <thead>\n",
       "    <tr style=\"text-align: right;\">\n",
       "      <th></th>\n",
       "      <th>tweetId</th>\n",
       "      <th>tweetText</th>\n",
       "      <th>userId</th>\n",
       "      <th>imageId(s)</th>\n",
       "      <th>username</th>\n",
       "      <th>timestamp</th>\n",
       "      <th>label</th>\n",
       "      <th>cleanText</th>\n",
       "    </tr>\n",
       "  </thead>\n",
       "  <tbody>\n",
       "    <tr>\n",
       "      <th>0</th>\n",
       "      <td>263046056240115712</td>\n",
       "      <td>¿Se acuerdan de la película: “El día después de mañana”? Me recuerda a lo que está pasando con el huracán #Sandy.</td>\n",
       "      <td>21226711</td>\n",
       "      <td>sandyA_fake_46</td>\n",
       "      <td>iAnnieM</td>\n",
       "      <td>Mon Oct 29 22:34:01 +0000 2012</td>\n",
       "      <td>fake</td>\n",
       "      <td>se acuerdan de la película el día después de mañana me recuerda a lo que está pasando con el huracán sandy</td>\n",
       "    </tr>\n",
       "    <tr>\n",
       "      <th>1</th>\n",
       "      <td>262995061304852481</td>\n",
       "      <td>@milenagimon: Miren a Sandy en NY!  Tremenda imagen del huracán. Parece el \"Día de la Independencia 2\"  REAL! RT.</td>\n",
       "      <td>192378571</td>\n",
       "      <td>sandyA_fake_09</td>\n",
       "      <td>CarlosVerareal</td>\n",
       "      <td>Mon Oct 29 19:11:23 +0000 2012</td>\n",
       "      <td>fake</td>\n",
       "      <td>milenagimon miren a sandy en ny  tremenda imagen del huracán parece el día de la independencia   real rt</td>\n",
       "    </tr>\n",
       "    <tr>\n",
       "      <th>2</th>\n",
       "      <td>262979898002534400</td>\n",
       "      <td>Buena la foto del Huracán Sandy, me recuerda a la película Día de la Independencia #ID4 #Sandy</td>\n",
       "      <td>132303095</td>\n",
       "      <td>sandyA_fake_09</td>\n",
       "      <td>LucasPalape</td>\n",
       "      <td>Mon Oct 29 18:11:08 +0000 2012</td>\n",
       "      <td>fake</td>\n",
       "      <td>buena la foto del huracán sandy me recuerda a la película día de la independencia id sandy</td>\n",
       "    </tr>\n",
       "    <tr>\n",
       "      <th>3</th>\n",
       "      <td>262996108400271360</td>\n",
       "      <td>Scary shit #hurricane #NY</td>\n",
       "      <td>241995902</td>\n",
       "      <td>sandyA_fake_29</td>\n",
       "      <td>Haaaaarryyy</td>\n",
       "      <td>Mon Oct 29 19:15:33 +0000 2012</td>\n",
       "      <td>fake</td>\n",
       "      <td>scary shit hurricane ny</td>\n",
       "    </tr>\n",
       "    <tr>\n",
       "      <th>4</th>\n",
       "      <td>263018881839411200</td>\n",
       "      <td>My fave place in the world #nyc #hurricane #sandy #statueofliberty 🗽</td>\n",
       "      <td>250315890</td>\n",
       "      <td>sandyA_fake_15</td>\n",
       "      <td>princess__natt</td>\n",
       "      <td>Mon Oct 29 20:46:02 +0000 2012</td>\n",
       "      <td>fake</td>\n",
       "      <td>my fave place in the world nyc hurricane sandy statueofliberty</td>\n",
       "    </tr>\n",
       "  </tbody>\n",
       "</table>\n",
       "</div>"
      ],
      "text/plain": [
       "              tweetId  \\\n",
       "0  263046056240115712   \n",
       "1  262995061304852481   \n",
       "2  262979898002534400   \n",
       "3  262996108400271360   \n",
       "4  263018881839411200   \n",
       "\n",
       "                                                                                                            tweetText  \\\n",
       "0  ¿Se acuerdan de la película: “El día después de mañana”? Me recuerda a lo que está pasando con el huracán #Sandy.    \n",
       "1   @milenagimon: Miren a Sandy en NY!  Tremenda imagen del huracán. Parece el \"Día de la Independencia 2\"  REAL! RT.   \n",
       "2                    Buena la foto del Huracán Sandy, me recuerda a la película Día de la Independencia #ID4 #Sandy     \n",
       "3                                                                                          Scary shit #hurricane #NY    \n",
       "4                                               My fave place in the world #nyc #hurricane #sandy #statueofliberty 🗽    \n",
       "\n",
       "      userId      imageId(s)        username                       timestamp  \\\n",
       "0   21226711  sandyA_fake_46         iAnnieM  Mon Oct 29 22:34:01 +0000 2012   \n",
       "1  192378571  sandyA_fake_09  CarlosVerareal  Mon Oct 29 19:11:23 +0000 2012   \n",
       "2  132303095  sandyA_fake_09     LucasPalape  Mon Oct 29 18:11:08 +0000 2012   \n",
       "3  241995902  sandyA_fake_29     Haaaaarryyy  Mon Oct 29 19:15:33 +0000 2012   \n",
       "4  250315890  sandyA_fake_15  princess__natt  Mon Oct 29 20:46:02 +0000 2012   \n",
       "\n",
       "  label  \\\n",
       "0  fake   \n",
       "1  fake   \n",
       "2  fake   \n",
       "3  fake   \n",
       "4  fake   \n",
       "\n",
       "                                                                                                     cleanText  \n",
       "0  se acuerdan de la película el día después de mañana me recuerda a lo que está pasando con el huracán sandy   \n",
       "1     milenagimon miren a sandy en ny  tremenda imagen del huracán parece el día de la independencia   real rt  \n",
       "2                 buena la foto del huracán sandy me recuerda a la película día de la independencia id sandy    \n",
       "3                                                                                     scary shit hurricane ny   \n",
       "4                                             my fave place in the world nyc hurricane sandy statueofliberty    "
      ]
     },
     "execution_count": 11,
     "metadata": {},
     "output_type": "execute_result"
    }
   ],
   "source": [
    "entry = df_train.iloc[0]['tweetText']\n",
    "print('raw data sample: ', entry)\n",
    "print('after cleaning: ', clean_text(entry))\n",
    "\n",
    "df_train['cleanText'] = df_train['tweetText'].apply(lambda x: clean_text(x))\n",
    "df_test['cleanText'] = df_test['tweetText'].apply(lambda x: clean_text(x))\n",
    "df_train.head()"
   ]
  },
  {
   "cell_type": "code",
   "execution_count": 19,
   "id": "0c674e17-8a4e-44dd-8f45-2fdf6c3009f8",
   "metadata": {},
   "outputs": [
    {
     "data": {
      "text/html": [
       "<div>\n",
       "<style scoped>\n",
       "    .dataframe tbody tr th:only-of-type {\n",
       "        vertical-align: middle;\n",
       "    }\n",
       "\n",
       "    .dataframe tbody tr th {\n",
       "        vertical-align: top;\n",
       "    }\n",
       "\n",
       "    .dataframe thead th {\n",
       "        text-align: right;\n",
       "    }\n",
       "</style>\n",
       "<table border=\"1\" class=\"dataframe\">\n",
       "  <thead>\n",
       "    <tr style=\"text-align: right;\">\n",
       "      <th></th>\n",
       "      <th>tweetId</th>\n",
       "      <th>tweetText</th>\n",
       "      <th>userId</th>\n",
       "      <th>imageId(s)</th>\n",
       "      <th>username</th>\n",
       "      <th>timestamp</th>\n",
       "      <th>label</th>\n",
       "      <th>cleanText</th>\n",
       "    </tr>\n",
       "  </thead>\n",
       "  <tbody>\n",
       "    <tr>\n",
       "      <th>12167</th>\n",
       "      <td>263490059825729537</td>\n",
       "      <td>this is in dr :(((  fuck sandy \\n!!!</td>\n",
       "      <td>183529883</td>\n",
       "      <td>sandyB_real_22</td>\n",
       "      <td>Xo_AshleyTaylor</td>\n",
       "      <td>Wed Oct 31 03:58:20 +0000 2012</td>\n",
       "      <td>real</td>\n",
       "      <td>this is in dr   fuck sandy</td>\n",
       "    </tr>\n",
       "  </tbody>\n",
       "</table>\n",
       "</div>"
      ],
      "text/plain": [
       "                  tweetId                             tweetText     userId  \\\n",
       "12167  263490059825729537  this is in dr :(((  fuck sandy \\n!!!  183529883   \n",
       "\n",
       "           imageId(s)         username                       timestamp label  \\\n",
       "12167  sandyB_real_22  Xo_AshleyTaylor  Wed Oct 31 03:58:20 +0000 2012  real   \n",
       "\n",
       "                         cleanText  \n",
       "12167  this is in dr   fuck sandy   "
      ]
     },
     "execution_count": 19,
     "metadata": {},
     "output_type": "execute_result"
    }
   ],
   "source": [
    "# example to make sure new line actually is removed\n",
    "df_train.loc[df_train['tweetId'] == 263490059825729537]\n"
   ]
  },
  {
   "cell_type": "markdown",
   "id": "60ac8378-7930-4a94-a627-b73990aba03f",
   "metadata": {},
   "source": [
    "#### Saving cleanText to csv file so we won't have to spend so long time running"
   ]
  },
  {
   "cell_type": "code",
   "execution_count": 32,
   "id": "28aa1787-95cc-4711-89e7-4dd55c1b2959",
   "metadata": {},
   "outputs": [],
   "source": [
    "# df_train.to_csv('train_tweets_cleaned_.csv',index=False)\n",
    "# df_test.to_csv('test_tweets_cleaned_.csv',index=False)"
   ]
  },
  {
   "cell_type": "markdown",
   "id": "04f8dac3-eaf8-49dc-b892-d09fdd5d21c8",
   "metadata": {},
   "source": [
    "#### Retriving cleaned and translated tweets"
   ]
  },
  {
   "cell_type": "code",
   "execution_count": 83,
   "id": "b811076b-34b2-4175-ab21-e3086554d160",
   "metadata": {},
   "outputs": [
    {
     "data": {
      "text/html": [
       "<div>\n",
       "<style scoped>\n",
       "    .dataframe tbody tr th:only-of-type {\n",
       "        vertical-align: middle;\n",
       "    }\n",
       "\n",
       "    .dataframe tbody tr th {\n",
       "        vertical-align: top;\n",
       "    }\n",
       "\n",
       "    .dataframe thead th {\n",
       "        text-align: right;\n",
       "    }\n",
       "</style>\n",
       "<table border=\"1\" class=\"dataframe\">\n",
       "  <thead>\n",
       "    <tr style=\"text-align: right;\">\n",
       "      <th></th>\n",
       "      <th>tweetId</th>\n",
       "      <th>tweetText</th>\n",
       "      <th>userId</th>\n",
       "      <th>imageId(s)</th>\n",
       "      <th>username</th>\n",
       "      <th>timestamp</th>\n",
       "      <th>label</th>\n",
       "      <th>cleanText</th>\n",
       "    </tr>\n",
       "  </thead>\n",
       "  <tbody>\n",
       "    <tr>\n",
       "      <th>0</th>\n",
       "      <td>2.630000e+17</td>\n",
       "      <td>¿Se acuerdan de la película: “El día después de mañana”? Me recuerda a lo que está pasando con el huracán #Sandy.</td>\n",
       "      <td>21226711</td>\n",
       "      <td>sandyA_fake_46</td>\n",
       "      <td>iAnnieM</td>\n",
       "      <td>Mon Oct 29 22:34:01 +0000 2012</td>\n",
       "      <td>fake</td>\n",
       "      <td>they remember the movie the day after tomorrow it reminds me of what is happening with hurricane sandy</td>\n",
       "    </tr>\n",
       "    <tr>\n",
       "      <th>1</th>\n",
       "      <td>2.630000e+17</td>\n",
       "      <td>@milenagimon: Miren a Sandy en NY!  Tremenda imagen del huracán. Parece el \"Día de la Independencia 2\"  REAL! RT.</td>\n",
       "      <td>192378571</td>\n",
       "      <td>sandyA_fake_09</td>\n",
       "      <td>CarlosVerareal</td>\n",
       "      <td>Mon Oct 29 19:11:23 +0000 2012</td>\n",
       "      <td>fake</td>\n",
       "      <td>milenagimon look at sandy in ny tremendous image of hurricane seems to the day of real independence rt</td>\n",
       "    </tr>\n",
       "    <tr>\n",
       "      <th>2</th>\n",
       "      <td>2.630000e+17</td>\n",
       "      <td>Buena la foto del Huracán Sandy, me recuerda a la película Día de la Independencia #ID4 #Sandy</td>\n",
       "      <td>132303095</td>\n",
       "      <td>sandyA_fake_09</td>\n",
       "      <td>LucasPalape</td>\n",
       "      <td>Mon Oct 29 18:11:08 +0000 2012</td>\n",
       "      <td>fake</td>\n",
       "      <td>good the photo of hurricane sandy reminds me of the movie independence day id sandy</td>\n",
       "    </tr>\n",
       "    <tr>\n",
       "      <th>3</th>\n",
       "      <td>2.630000e+17</td>\n",
       "      <td>Scary shit #hurricane #NY</td>\n",
       "      <td>241995902</td>\n",
       "      <td>sandyA_fake_29</td>\n",
       "      <td>Haaaaarryyy</td>\n",
       "      <td>Mon Oct 29 19:15:33 +0000 2012</td>\n",
       "      <td>fake</td>\n",
       "      <td>scary shit hurricane ny</td>\n",
       "    </tr>\n",
       "    <tr>\n",
       "      <th>4</th>\n",
       "      <td>2.630000e+17</td>\n",
       "      <td>My fave place in the world #nyc #hurricane #sandy #statueofliberty 🗽</td>\n",
       "      <td>250315890</td>\n",
       "      <td>sandyA_fake_15</td>\n",
       "      <td>princess__natt</td>\n",
       "      <td>Mon Oct 29 20:46:02 +0000 2012</td>\n",
       "      <td>fake</td>\n",
       "      <td>my fave place in the world nyc hurricane sandy statueofliberty</td>\n",
       "    </tr>\n",
       "    <tr>\n",
       "      <th>5</th>\n",
       "      <td>2.630000e+17</td>\n",
       "      <td>42nd #time #square #NYC #subway #hurricane</td>\n",
       "      <td>163674788</td>\n",
       "      <td>sandyA_fake_23</td>\n",
       "      <td>classycg</td>\n",
       "      <td>Tue Oct 30 19:39:10 +0000 2012</td>\n",
       "      <td>fake</td>\n",
       "      <td>nd time square nyc subway hurricane</td>\n",
       "    </tr>\n",
       "    <tr>\n",
       "      <th>6</th>\n",
       "      <td>2.630000e+17</td>\n",
       "      <td>Just in time for #halloween a photo of #hurricane #sandy #frankenstorm</td>\n",
       "      <td>246153081</td>\n",
       "      <td>sandyA_fake_14</td>\n",
       "      <td>j_unit87</td>\n",
       "      <td>Mon Oct 29 14:41:04 +0000 2012</td>\n",
       "      <td>fake</td>\n",
       "      <td>just in time for halloween a photo of hurricane sandy frankenstorm</td>\n",
       "    </tr>\n",
       "    <tr>\n",
       "      <th>7</th>\n",
       "      <td>2.630000e+17</td>\n",
       "      <td>Crazy pic of #Hurricane #Sandy prayers go out to family and friends on the East Coast</td>\n",
       "      <td>199565482</td>\n",
       "      <td>sandyA_fake_29</td>\n",
       "      <td>MrBlakMagik</td>\n",
       "      <td>Tue Oct 30 16:46:52 +0000 2012</td>\n",
       "      <td>fake</td>\n",
       "      <td>crazy pic of hurricane sandy prayers go out to family and friends on the east coast</td>\n",
       "    </tr>\n",
       "    <tr>\n",
       "      <th>8</th>\n",
       "      <td>2.630000e+17</td>\n",
       "      <td>#sandy #newyork #hurricane #statueofliberty #USA</td>\n",
       "      <td>78475739</td>\n",
       "      <td>sandyA_fake_15</td>\n",
       "      <td>safi37</td>\n",
       "      <td>Tue Oct 30 02:54:46 +0000 2012</td>\n",
       "      <td>fake</td>\n",
       "      <td>sandy newyork hurricane statueofliberty usa</td>\n",
       "    </tr>\n",
       "    <tr>\n",
       "      <th>9</th>\n",
       "      <td>2.630000e+17</td>\n",
       "      <td>#nyc #hurricane</td>\n",
       "      <td>869777653</td>\n",
       "      <td>sandyA_fake_29</td>\n",
       "      <td>kingmichael03</td>\n",
       "      <td>Mon Oct 29 17:59:59 +0000 2012</td>\n",
       "      <td>fake</td>\n",
       "      <td>nyc hurricane</td>\n",
       "    </tr>\n",
       "  </tbody>\n",
       "</table>\n",
       "</div>"
      ],
      "text/plain": [
       "        tweetId  \\\n",
       "0  2.630000e+17   \n",
       "1  2.630000e+17   \n",
       "2  2.630000e+17   \n",
       "3  2.630000e+17   \n",
       "4  2.630000e+17   \n",
       "5  2.630000e+17   \n",
       "6  2.630000e+17   \n",
       "7  2.630000e+17   \n",
       "8  2.630000e+17   \n",
       "9  2.630000e+17   \n",
       "\n",
       "                                                                                                            tweetText  \\\n",
       "0  ¿Se acuerdan de la película: “El día después de mañana”? Me recuerda a lo que está pasando con el huracán #Sandy.    \n",
       "1   @milenagimon: Miren a Sandy en NY!  Tremenda imagen del huracán. Parece el \"Día de la Independencia 2\"  REAL! RT.   \n",
       "2                    Buena la foto del Huracán Sandy, me recuerda a la película Día de la Independencia #ID4 #Sandy     \n",
       "3                                                                                          Scary shit #hurricane #NY    \n",
       "4                                               My fave place in the world #nyc #hurricane #sandy #statueofliberty 🗽    \n",
       "5                                                                         42nd #time #square #NYC #subway #hurricane    \n",
       "6                                             Just in time for #halloween a photo of #hurricane #sandy #frankenstorm    \n",
       "7                              Crazy pic of #Hurricane #Sandy prayers go out to family and friends on the East Coast    \n",
       "8                                                                   #sandy #newyork #hurricane #statueofliberty #USA    \n",
       "9                                                                                                    #nyc #hurricane    \n",
       "\n",
       "      userId      imageId(s)        username                       timestamp  \\\n",
       "0   21226711  sandyA_fake_46         iAnnieM  Mon Oct 29 22:34:01 +0000 2012   \n",
       "1  192378571  sandyA_fake_09  CarlosVerareal  Mon Oct 29 19:11:23 +0000 2012   \n",
       "2  132303095  sandyA_fake_09     LucasPalape  Mon Oct 29 18:11:08 +0000 2012   \n",
       "3  241995902  sandyA_fake_29     Haaaaarryyy  Mon Oct 29 19:15:33 +0000 2012   \n",
       "4  250315890  sandyA_fake_15  princess__natt  Mon Oct 29 20:46:02 +0000 2012   \n",
       "5  163674788  sandyA_fake_23        classycg  Tue Oct 30 19:39:10 +0000 2012   \n",
       "6  246153081  sandyA_fake_14        j_unit87  Mon Oct 29 14:41:04 +0000 2012   \n",
       "7  199565482  sandyA_fake_29     MrBlakMagik  Tue Oct 30 16:46:52 +0000 2012   \n",
       "8   78475739  sandyA_fake_15          safi37  Tue Oct 30 02:54:46 +0000 2012   \n",
       "9  869777653  sandyA_fake_29   kingmichael03  Mon Oct 29 17:59:59 +0000 2012   \n",
       "\n",
       "  label  \\\n",
       "0  fake   \n",
       "1  fake   \n",
       "2  fake   \n",
       "3  fake   \n",
       "4  fake   \n",
       "5  fake   \n",
       "6  fake   \n",
       "7  fake   \n",
       "8  fake   \n",
       "9  fake   \n",
       "\n",
       "                                                                                                cleanText  \n",
       "0  they remember the movie the day after tomorrow it reminds me of what is happening with hurricane sandy  \n",
       "1  milenagimon look at sandy in ny tremendous image of hurricane seems to the day of real independence rt  \n",
       "2                     good the photo of hurricane sandy reminds me of the movie independence day id sandy  \n",
       "3                                                                                scary shit hurricane ny   \n",
       "4                                        my fave place in the world nyc hurricane sandy statueofliberty    \n",
       "5                                                                    nd time square nyc subway hurricane   \n",
       "6                                     just in time for halloween a photo of hurricane sandy frankenstorm   \n",
       "7                    crazy pic of hurricane sandy prayers go out to family and friends on the east coast   \n",
       "8                                                            sandy newyork hurricane statueofliberty usa   \n",
       "9                                                                                          nyc hurricane   "
      ]
     },
     "execution_count": 83,
     "metadata": {},
     "output_type": "execute_result"
    }
   ],
   "source": [
    "df_cleaned_train = pandas.read_csv('train_tweets_cleaned_5.csv')\n",
    "df_cleaned_test = pandas.read_csv('test_tweets_cleaned.csv')\n",
    "pandas.set_option('display.max_colwidth', None) #allows you to see full fields\n",
    "df_cleaned_train.head(10)"
   ]
  },
  {
   "cell_type": "markdown",
   "id": "84006c24-b760-4e67-80df-abc63be168e3",
   "metadata": {},
   "source": [
    "#### Removing white spaces"
   ]
  },
  {
   "cell_type": "markdown",
   "id": "4a1672ef-2aa2-4487-85e9-e51d4ebd53c3",
   "metadata": {},
   "source": [
    "#### Removing Stop Words"
   ]
  },
  {
   "cell_type": "code",
   "execution_count": 84,
   "id": "24d14cf9-495f-4b55-ac7e-97b94737bacc",
   "metadata": {},
   "outputs": [],
   "source": [
    "stopwords = nltk.corpus.stopwords.words()\n",
    "stopwords.extend([':', ';', '[', ']', '\"', \"'\", '(', ')', '.', '?', '#', '@', '...'])\n",
    "df_cleaned_train['cleanText'] = df_cleaned_train['cleanText'].apply(lambda x: ' '.join([w for w in x.split() if w not in stopwords]))\n",
    "df_cleaned_test['cleanText'] = df_cleaned_test['cleanText'].apply(lambda x: ' '.join([w for w in x.split() if w not in stopwords]))"
   ]
  },
  {
   "cell_type": "markdown",
   "id": "011adae3-14ad-4cba-9f7d-ddef9c1d3800",
   "metadata": {},
   "source": [
    "#### Text Lemmatising"
   ]
  },
  {
   "cell_type": "code",
   "execution_count": 85,
   "id": "4a0a6996-304e-4d26-aa5d-9513af21c3ff",
   "metadata": {},
   "outputs": [
    {
     "data": {
      "text/html": [
       "<div>\n",
       "<style scoped>\n",
       "    .dataframe tbody tr th:only-of-type {\n",
       "        vertical-align: middle;\n",
       "    }\n",
       "\n",
       "    .dataframe tbody tr th {\n",
       "        vertical-align: top;\n",
       "    }\n",
       "\n",
       "    .dataframe thead th {\n",
       "        text-align: right;\n",
       "    }\n",
       "</style>\n",
       "<table border=\"1\" class=\"dataframe\">\n",
       "  <thead>\n",
       "    <tr style=\"text-align: right;\">\n",
       "      <th></th>\n",
       "      <th>tweetId</th>\n",
       "      <th>tweetText</th>\n",
       "      <th>userId</th>\n",
       "      <th>imageId(s)</th>\n",
       "      <th>username</th>\n",
       "      <th>timestamp</th>\n",
       "      <th>label</th>\n",
       "      <th>cleanText</th>\n",
       "    </tr>\n",
       "  </thead>\n",
       "  <tbody>\n",
       "    <tr>\n",
       "      <th>0</th>\n",
       "      <td>2.630000e+17</td>\n",
       "      <td>¿Se acuerdan de la película: “El día después de mañana”? Me recuerda a lo que está pasando con el huracán #Sandy.</td>\n",
       "      <td>21226711</td>\n",
       "      <td>sandyA_fake_46</td>\n",
       "      <td>iAnnieM</td>\n",
       "      <td>Mon Oct 29 22:34:01 +0000 2012</td>\n",
       "      <td>fake</td>\n",
       "      <td>remember movie day tomorrow reminds happening hurricane sandy</td>\n",
       "    </tr>\n",
       "    <tr>\n",
       "      <th>1</th>\n",
       "      <td>2.630000e+17</td>\n",
       "      <td>@milenagimon: Miren a Sandy en NY!  Tremenda imagen del huracán. Parece el \"Día de la Independencia 2\"  REAL! RT.</td>\n",
       "      <td>192378571</td>\n",
       "      <td>sandyA_fake_09</td>\n",
       "      <td>CarlosVerareal</td>\n",
       "      <td>Mon Oct 29 19:11:23 +0000 2012</td>\n",
       "      <td>fake</td>\n",
       "      <td>milenagimon sandy ny tremendous image hurricane day real independence rt</td>\n",
       "    </tr>\n",
       "    <tr>\n",
       "      <th>2</th>\n",
       "      <td>2.630000e+17</td>\n",
       "      <td>Buena la foto del Huracán Sandy, me recuerda a la película Día de la Independencia #ID4 #Sandy</td>\n",
       "      <td>132303095</td>\n",
       "      <td>sandyA_fake_09</td>\n",
       "      <td>LucasPalape</td>\n",
       "      <td>Mon Oct 29 18:11:08 +0000 2012</td>\n",
       "      <td>fake</td>\n",
       "      <td>photo hurricane sandy reminds movie independence day id sandy</td>\n",
       "    </tr>\n",
       "    <tr>\n",
       "      <th>3</th>\n",
       "      <td>2.630000e+17</td>\n",
       "      <td>Scary shit #hurricane #NY</td>\n",
       "      <td>241995902</td>\n",
       "      <td>sandyA_fake_29</td>\n",
       "      <td>Haaaaarryyy</td>\n",
       "      <td>Mon Oct 29 19:15:33 +0000 2012</td>\n",
       "      <td>fake</td>\n",
       "      <td>scary shit hurricane ny</td>\n",
       "    </tr>\n",
       "    <tr>\n",
       "      <th>4</th>\n",
       "      <td>2.630000e+17</td>\n",
       "      <td>My fave place in the world #nyc #hurricane #sandy #statueofliberty 🗽</td>\n",
       "      <td>250315890</td>\n",
       "      <td>sandyA_fake_15</td>\n",
       "      <td>princess__natt</td>\n",
       "      <td>Mon Oct 29 20:46:02 +0000 2012</td>\n",
       "      <td>fake</td>\n",
       "      <td>fave place world nyc hurricane sandy statueofliberty</td>\n",
       "    </tr>\n",
       "    <tr>\n",
       "      <th>5</th>\n",
       "      <td>2.630000e+17</td>\n",
       "      <td>42nd #time #square #NYC #subway #hurricane</td>\n",
       "      <td>163674788</td>\n",
       "      <td>sandyA_fake_23</td>\n",
       "      <td>classycg</td>\n",
       "      <td>Tue Oct 30 19:39:10 +0000 2012</td>\n",
       "      <td>fake</td>\n",
       "      <td>time square nyc subway hurricane</td>\n",
       "    </tr>\n",
       "    <tr>\n",
       "      <th>6</th>\n",
       "      <td>2.630000e+17</td>\n",
       "      <td>Just in time for #halloween a photo of #hurricane #sandy #frankenstorm</td>\n",
       "      <td>246153081</td>\n",
       "      <td>sandyA_fake_14</td>\n",
       "      <td>j_unit87</td>\n",
       "      <td>Mon Oct 29 14:41:04 +0000 2012</td>\n",
       "      <td>fake</td>\n",
       "      <td>time halloween photo hurricane sandy frankenstorm</td>\n",
       "    </tr>\n",
       "    <tr>\n",
       "      <th>7</th>\n",
       "      <td>2.630000e+17</td>\n",
       "      <td>Crazy pic of #Hurricane #Sandy prayers go out to family and friends on the East Coast</td>\n",
       "      <td>199565482</td>\n",
       "      <td>sandyA_fake_29</td>\n",
       "      <td>MrBlakMagik</td>\n",
       "      <td>Tue Oct 30 16:46:52 +0000 2012</td>\n",
       "      <td>fake</td>\n",
       "      <td>crazy hurricane sandy prayer family friend east coast</td>\n",
       "    </tr>\n",
       "    <tr>\n",
       "      <th>8</th>\n",
       "      <td>2.630000e+17</td>\n",
       "      <td>#sandy #newyork #hurricane #statueofliberty #USA</td>\n",
       "      <td>78475739</td>\n",
       "      <td>sandyA_fake_15</td>\n",
       "      <td>safi37</td>\n",
       "      <td>Tue Oct 30 02:54:46 +0000 2012</td>\n",
       "      <td>fake</td>\n",
       "      <td>sandy newyork hurricane statueofliberty usa</td>\n",
       "    </tr>\n",
       "    <tr>\n",
       "      <th>9</th>\n",
       "      <td>2.630000e+17</td>\n",
       "      <td>#nyc #hurricane</td>\n",
       "      <td>869777653</td>\n",
       "      <td>sandyA_fake_29</td>\n",
       "      <td>kingmichael03</td>\n",
       "      <td>Mon Oct 29 17:59:59 +0000 2012</td>\n",
       "      <td>fake</td>\n",
       "      <td>nyc hurricane</td>\n",
       "    </tr>\n",
       "  </tbody>\n",
       "</table>\n",
       "</div>"
      ],
      "text/plain": [
       "        tweetId  \\\n",
       "0  2.630000e+17   \n",
       "1  2.630000e+17   \n",
       "2  2.630000e+17   \n",
       "3  2.630000e+17   \n",
       "4  2.630000e+17   \n",
       "5  2.630000e+17   \n",
       "6  2.630000e+17   \n",
       "7  2.630000e+17   \n",
       "8  2.630000e+17   \n",
       "9  2.630000e+17   \n",
       "\n",
       "                                                                                                            tweetText  \\\n",
       "0  ¿Se acuerdan de la película: “El día después de mañana”? Me recuerda a lo que está pasando con el huracán #Sandy.    \n",
       "1   @milenagimon: Miren a Sandy en NY!  Tremenda imagen del huracán. Parece el \"Día de la Independencia 2\"  REAL! RT.   \n",
       "2                    Buena la foto del Huracán Sandy, me recuerda a la película Día de la Independencia #ID4 #Sandy     \n",
       "3                                                                                          Scary shit #hurricane #NY    \n",
       "4                                               My fave place in the world #nyc #hurricane #sandy #statueofliberty 🗽    \n",
       "5                                                                         42nd #time #square #NYC #subway #hurricane    \n",
       "6                                             Just in time for #halloween a photo of #hurricane #sandy #frankenstorm    \n",
       "7                              Crazy pic of #Hurricane #Sandy prayers go out to family and friends on the East Coast    \n",
       "8                                                                   #sandy #newyork #hurricane #statueofliberty #USA    \n",
       "9                                                                                                    #nyc #hurricane    \n",
       "\n",
       "      userId      imageId(s)        username                       timestamp  \\\n",
       "0   21226711  sandyA_fake_46         iAnnieM  Mon Oct 29 22:34:01 +0000 2012   \n",
       "1  192378571  sandyA_fake_09  CarlosVerareal  Mon Oct 29 19:11:23 +0000 2012   \n",
       "2  132303095  sandyA_fake_09     LucasPalape  Mon Oct 29 18:11:08 +0000 2012   \n",
       "3  241995902  sandyA_fake_29     Haaaaarryyy  Mon Oct 29 19:15:33 +0000 2012   \n",
       "4  250315890  sandyA_fake_15  princess__natt  Mon Oct 29 20:46:02 +0000 2012   \n",
       "5  163674788  sandyA_fake_23        classycg  Tue Oct 30 19:39:10 +0000 2012   \n",
       "6  246153081  sandyA_fake_14        j_unit87  Mon Oct 29 14:41:04 +0000 2012   \n",
       "7  199565482  sandyA_fake_29     MrBlakMagik  Tue Oct 30 16:46:52 +0000 2012   \n",
       "8   78475739  sandyA_fake_15          safi37  Tue Oct 30 02:54:46 +0000 2012   \n",
       "9  869777653  sandyA_fake_29   kingmichael03  Mon Oct 29 17:59:59 +0000 2012   \n",
       "\n",
       "  label  \\\n",
       "0  fake   \n",
       "1  fake   \n",
       "2  fake   \n",
       "3  fake   \n",
       "4  fake   \n",
       "5  fake   \n",
       "6  fake   \n",
       "7  fake   \n",
       "8  fake   \n",
       "9  fake   \n",
       "\n",
       "                                                                  cleanText  \n",
       "0             remember movie day tomorrow reminds happening hurricane sandy  \n",
       "1  milenagimon sandy ny tremendous image hurricane day real independence rt  \n",
       "2             photo hurricane sandy reminds movie independence day id sandy  \n",
       "3                                                   scary shit hurricane ny  \n",
       "4                      fave place world nyc hurricane sandy statueofliberty  \n",
       "5                                          time square nyc subway hurricane  \n",
       "6                         time halloween photo hurricane sandy frankenstorm  \n",
       "7                     crazy hurricane sandy prayer family friend east coast  \n",
       "8                               sandy newyork hurricane statueofliberty usa  \n",
       "9                                                             nyc hurricane  "
      ]
     },
     "execution_count": 85,
     "metadata": {},
     "output_type": "execute_result"
    }
   ],
   "source": [
    "tokeniser = nltk.tokenize.WhitespaceTokenizer()\n",
    "lemmatiser = nltk.stem.WordNetLemmatizer()\n",
    "df_cleaned_train['cleanText'] = df_cleaned_train['cleanText'].apply(lambda x: ' '.join([lemmatiser.lemmatize(w) for w in tokeniser.tokenize(x)]))\n",
    "df_cleaned_test['cleanText'] = df_cleaned_test['cleanText'].apply(lambda x: ' '.join([lemmatiser.lemmatize(w) for w in tokeniser.tokenize(x)]))\n",
    "df_cleaned_train.head(10)"
   ]
  },
  {
   "cell_type": "markdown",
   "id": "767be256-cfdc-4758-9430-9385f70f8aa0",
   "metadata": {},
   "source": [
    "#### Correcting Spelling Mistakes"
   ]
  },
  {
   "cell_type": "code",
   "execution_count": null,
   "id": "8b416079-b253-4dff-88eb-a40cdb4a0cfa",
   "metadata": {},
   "outputs": [],
   "source": [
    "spell = Speller(lang='en')\n",
    "\n",
    "\"\"\"\n",
    "I run the translation function in a separated script so I could track and save the output csv file.\n",
    "So, Please don't run translate_tweet() on the whole dataset here, because it'll take too long time.\n",
    "\"\"\"\n",
    "def correct_spelling(tweet):\n",
    "    words = tweet.split()\n",
    "    return \" \".join([spell(item) for item in words])\n",
    "\n",
    "df_train['cleanText'] = df_train['cleanText'].apply(lambda x: correct_spelling(x))\n",
    "df_test['cleanText'] = df_test['cleanText'].apply(lambda x: correct_spelling(x))\n",
    "train_data.head(10)"
   ]
  },
  {
   "cell_type": "markdown",
   "id": "08ee542e-6db8-4054-990b-d3ceba6a3fdc",
   "metadata": {},
   "source": [
    "#### write spell checked cleanText to csv file so won't have to spend so long time running "
   ]
  },
  {
   "cell_type": "code",
   "execution_count": null,
   "id": "f84de3cd-4354-4c32-9616-3016f1153cbc",
   "metadata": {},
   "outputs": [],
   "source": [
    "# df_train.to_csv('train_tweets_spellcheck.csv',index=False)\n",
    "# df_test.to_csv('test_tweets_spellcheck.csv',index=False)"
   ]
  },
  {
   "cell_type": "markdown",
   "id": "d3c96e6f-99e6-48f2-a1e4-46831f4f3eff",
   "metadata": {},
   "source": [
    "#### Retriving spell checked tweets"
   ]
  },
  {
   "cell_type": "code",
   "execution_count": 15,
   "id": "d1f0223f-ab37-44cd-b451-357b8214ed81",
   "metadata": {},
   "outputs": [
    {
     "data": {
      "text/html": [
       "<div>\n",
       "<style scoped>\n",
       "    .dataframe tbody tr th:only-of-type {\n",
       "        vertical-align: middle;\n",
       "    }\n",
       "\n",
       "    .dataframe tbody tr th {\n",
       "        vertical-align: top;\n",
       "    }\n",
       "\n",
       "    .dataframe thead th {\n",
       "        text-align: right;\n",
       "    }\n",
       "</style>\n",
       "<table border=\"1\" class=\"dataframe\">\n",
       "  <thead>\n",
       "    <tr style=\"text-align: right;\">\n",
       "      <th></th>\n",
       "      <th>tweetId</th>\n",
       "      <th>tweetText</th>\n",
       "      <th>userId</th>\n",
       "      <th>imageId(s)</th>\n",
       "      <th>username</th>\n",
       "      <th>timestamp</th>\n",
       "      <th>label</th>\n",
       "      <th>cleanText</th>\n",
       "    </tr>\n",
       "  </thead>\n",
       "  <tbody>\n",
       "    <tr>\n",
       "      <th>0</th>\n",
       "      <td>2.630000e+17</td>\n",
       "      <td>¿Se acuerdan de la película: “El día después d...</td>\n",
       "      <td>21226711</td>\n",
       "      <td>sandyA_fake_46</td>\n",
       "      <td>iAnnieM</td>\n",
       "      <td>Mon Oct 29 22:34:01 +0000 2012</td>\n",
       "      <td>fake</td>\n",
       "      <td>they remember the movie the day after tomorrow...</td>\n",
       "    </tr>\n",
       "    <tr>\n",
       "      <th>1</th>\n",
       "      <td>2.630000e+17</td>\n",
       "      <td>@milenagimon: Miren a Sandy en NY!  Tremenda i...</td>\n",
       "      <td>192378571</td>\n",
       "      <td>sandyA_fake_09</td>\n",
       "      <td>CarlosVerareal</td>\n",
       "      <td>Mon Oct 29 19:11:23 +0000 2012</td>\n",
       "      <td>fake</td>\n",
       "      <td>milenagimon look at sandy in ny tremendous ima...</td>\n",
       "    </tr>\n",
       "    <tr>\n",
       "      <th>2</th>\n",
       "      <td>2.630000e+17</td>\n",
       "      <td>Buena la foto del Huracán Sandy, me recuerda a...</td>\n",
       "      <td>132303095</td>\n",
       "      <td>sandyA_fake_09</td>\n",
       "      <td>LucasPalape</td>\n",
       "      <td>Mon Oct 29 18:11:08 +0000 2012</td>\n",
       "      <td>fake</td>\n",
       "      <td>good the photo of hurricane sandy reminds me o...</td>\n",
       "    </tr>\n",
       "    <tr>\n",
       "      <th>3</th>\n",
       "      <td>2.630000e+17</td>\n",
       "      <td>Scary shit #hurricane #NY</td>\n",
       "      <td>241995902</td>\n",
       "      <td>sandyA_fake_29</td>\n",
       "      <td>Haaaaarryyy</td>\n",
       "      <td>Mon Oct 29 19:15:33 +0000 2012</td>\n",
       "      <td>fake</td>\n",
       "      <td>scary shit hurricane ny</td>\n",
       "    </tr>\n",
       "    <tr>\n",
       "      <th>4</th>\n",
       "      <td>2.630000e+17</td>\n",
       "      <td>My fave place in the world #nyc #hurricane #sa...</td>\n",
       "      <td>250315890</td>\n",
       "      <td>sandyA_fake_15</td>\n",
       "      <td>princess__natt</td>\n",
       "      <td>Mon Oct 29 20:46:02 +0000 2012</td>\n",
       "      <td>fake</td>\n",
       "      <td>my have place in the world nyc hurricane sandy...</td>\n",
       "    </tr>\n",
       "    <tr>\n",
       "      <th>5</th>\n",
       "      <td>2.630000e+17</td>\n",
       "      <td>42nd #time #square #NYC #subway #hurricane</td>\n",
       "      <td>163674788</td>\n",
       "      <td>sandyA_fake_23</td>\n",
       "      <td>classycg</td>\n",
       "      <td>Tue Oct 30 19:39:10 +0000 2012</td>\n",
       "      <td>fake</td>\n",
       "      <td>nd time square nyc subway hurricane</td>\n",
       "    </tr>\n",
       "    <tr>\n",
       "      <th>6</th>\n",
       "      <td>2.630000e+17</td>\n",
       "      <td>Just in time for #halloween a photo of #hurric...</td>\n",
       "      <td>246153081</td>\n",
       "      <td>sandyA_fake_14</td>\n",
       "      <td>j_unit87</td>\n",
       "      <td>Mon Oct 29 14:41:04 +0000 2012</td>\n",
       "      <td>fake</td>\n",
       "      <td>just in time for halloween a photo of hurrican...</td>\n",
       "    </tr>\n",
       "    <tr>\n",
       "      <th>7</th>\n",
       "      <td>2.630000e+17</td>\n",
       "      <td>Crazy pic of #Hurricane #Sandy prayers go out ...</td>\n",
       "      <td>199565482</td>\n",
       "      <td>sandyA_fake_29</td>\n",
       "      <td>MrBlakMagik</td>\n",
       "      <td>Tue Oct 30 16:46:52 +0000 2012</td>\n",
       "      <td>fake</td>\n",
       "      <td>crazy pic of hurricane sandy prayers go out to...</td>\n",
       "    </tr>\n",
       "    <tr>\n",
       "      <th>8</th>\n",
       "      <td>2.630000e+17</td>\n",
       "      <td>#sandy #newyork #hurricane #statueofliberty #USA</td>\n",
       "      <td>78475739</td>\n",
       "      <td>sandyA_fake_15</td>\n",
       "      <td>safi37</td>\n",
       "      <td>Tue Oct 30 02:54:46 +0000 2012</td>\n",
       "      <td>fake</td>\n",
       "      <td>sandy newyork hurricane statueofliberty usa</td>\n",
       "    </tr>\n",
       "    <tr>\n",
       "      <th>9</th>\n",
       "      <td>2.630000e+17</td>\n",
       "      <td>#nyc #hurricane</td>\n",
       "      <td>869777653</td>\n",
       "      <td>sandyA_fake_29</td>\n",
       "      <td>kingmichael03</td>\n",
       "      <td>Mon Oct 29 17:59:59 +0000 2012</td>\n",
       "      <td>fake</td>\n",
       "      <td>nyc hurricane</td>\n",
       "    </tr>\n",
       "  </tbody>\n",
       "</table>\n",
       "</div>"
      ],
      "text/plain": [
       "        tweetId                                          tweetText     userId  \\\n",
       "0  2.630000e+17  ¿Se acuerdan de la película: “El día después d...   21226711   \n",
       "1  2.630000e+17  @milenagimon: Miren a Sandy en NY!  Tremenda i...  192378571   \n",
       "2  2.630000e+17  Buena la foto del Huracán Sandy, me recuerda a...  132303095   \n",
       "3  2.630000e+17                         Scary shit #hurricane #NY   241995902   \n",
       "4  2.630000e+17  My fave place in the world #nyc #hurricane #sa...  250315890   \n",
       "5  2.630000e+17        42nd #time #square #NYC #subway #hurricane   163674788   \n",
       "6  2.630000e+17  Just in time for #halloween a photo of #hurric...  246153081   \n",
       "7  2.630000e+17  Crazy pic of #Hurricane #Sandy prayers go out ...  199565482   \n",
       "8  2.630000e+17  #sandy #newyork #hurricane #statueofliberty #USA    78475739   \n",
       "9  2.630000e+17                                   #nyc #hurricane   869777653   \n",
       "\n",
       "       imageId(s)        username                       timestamp label  \\\n",
       "0  sandyA_fake_46         iAnnieM  Mon Oct 29 22:34:01 +0000 2012  fake   \n",
       "1  sandyA_fake_09  CarlosVerareal  Mon Oct 29 19:11:23 +0000 2012  fake   \n",
       "2  sandyA_fake_09     LucasPalape  Mon Oct 29 18:11:08 +0000 2012  fake   \n",
       "3  sandyA_fake_29     Haaaaarryyy  Mon Oct 29 19:15:33 +0000 2012  fake   \n",
       "4  sandyA_fake_15  princess__natt  Mon Oct 29 20:46:02 +0000 2012  fake   \n",
       "5  sandyA_fake_23        classycg  Tue Oct 30 19:39:10 +0000 2012  fake   \n",
       "6  sandyA_fake_14        j_unit87  Mon Oct 29 14:41:04 +0000 2012  fake   \n",
       "7  sandyA_fake_29     MrBlakMagik  Tue Oct 30 16:46:52 +0000 2012  fake   \n",
       "8  sandyA_fake_15          safi37  Tue Oct 30 02:54:46 +0000 2012  fake   \n",
       "9  sandyA_fake_29   kingmichael03  Mon Oct 29 17:59:59 +0000 2012  fake   \n",
       "\n",
       "                                           cleanText  \n",
       "0  they remember the movie the day after tomorrow...  \n",
       "1  milenagimon look at sandy in ny tremendous ima...  \n",
       "2  good the photo of hurricane sandy reminds me o...  \n",
       "3                            scary shit hurricane ny  \n",
       "4  my have place in the world nyc hurricane sandy...  \n",
       "5                nd time square nyc subway hurricane  \n",
       "6  just in time for halloween a photo of hurrican...  \n",
       "7  crazy pic of hurricane sandy prayers go out to...  \n",
       "8        sandy newyork hurricane statueofliberty usa  \n",
       "9                                      nyc hurricane  "
      ]
     },
     "execution_count": 15,
     "metadata": {},
     "output_type": "execute_result"
    }
   ],
   "source": [
    "df_train = pandas.read_csv('train_tweets_cleaned_spell_checked.csv')\n",
    "df_test = pandas.read_csv('test_tweets_cleaned_spell_checked_2.csv')\n",
    "df_train.head(10)"
   ]
  },
  {
   "cell_type": "markdown",
   "id": "ae266186-bde9-4f68-9cbc-3813e80aef92",
   "metadata": {
    "tags": []
   },
   "source": [
    "#### Getting frequency count & Removing Dublicates"
   ]
  },
  {
   "cell_type": "code",
   "execution_count": 16,
   "id": "3a2d270d-1ea7-4dd3-90ee-6eb5245bdae8",
   "metadata": {},
   "outputs": [
    {
     "data": {
      "text/plain": [
       "(11752, 9)"
      ]
     },
     "execution_count": 16,
     "metadata": {},
     "output_type": "execute_result"
    }
   ],
   "source": [
    "df_train['frequency'] = df_train['tweetText'].map(df_train['tweetText'].value_counts())\n",
    "df_train['frequency'].value_counts()\n",
    "df_train.drop_duplicates(subset=['tweetText'], keep='first', inplace=True)\n",
    "df_train.shape"
   ]
  },
  {
   "cell_type": "markdown",
   "id": "a34dde97-5027-449c-97b4-9ad67cb402fa",
   "metadata": {},
   "source": [
    "#### Removing White Spaces"
   ]
  },
  {
   "cell_type": "code",
   "execution_count": 17,
   "id": "ecfe4898-fc1d-457d-a096-586dfcd70a6f",
   "metadata": {},
   "outputs": [
    {
     "data": {
      "text/html": [
       "<div>\n",
       "<style scoped>\n",
       "    .dataframe tbody tr th:only-of-type {\n",
       "        vertical-align: middle;\n",
       "    }\n",
       "\n",
       "    .dataframe tbody tr th {\n",
       "        vertical-align: top;\n",
       "    }\n",
       "\n",
       "    .dataframe thead th {\n",
       "        text-align: right;\n",
       "    }\n",
       "</style>\n",
       "<table border=\"1\" class=\"dataframe\">\n",
       "  <thead>\n",
       "    <tr style=\"text-align: right;\">\n",
       "      <th></th>\n",
       "      <th>tweetId</th>\n",
       "      <th>tweetText</th>\n",
       "      <th>userId</th>\n",
       "      <th>imageId(s)</th>\n",
       "      <th>username</th>\n",
       "      <th>timestamp</th>\n",
       "      <th>label</th>\n",
       "      <th>cleanText</th>\n",
       "      <th>frequency</th>\n",
       "    </tr>\n",
       "  </thead>\n",
       "  <tbody>\n",
       "    <tr>\n",
       "      <th>0</th>\n",
       "      <td>2.630000e+17</td>\n",
       "      <td>¿Se acuerdan de la película: “El día después d...</td>\n",
       "      <td>21226711</td>\n",
       "      <td>sandyA_fake_46</td>\n",
       "      <td>iAnnieM</td>\n",
       "      <td>Mon Oct 29 22:34:01 +0000 2012</td>\n",
       "      <td>fake</td>\n",
       "      <td>they remember the movie the day after tomorrow...</td>\n",
       "      <td>1</td>\n",
       "    </tr>\n",
       "    <tr>\n",
       "      <th>1</th>\n",
       "      <td>2.630000e+17</td>\n",
       "      <td>@milenagimon: Miren a Sandy en NY!  Tremenda i...</td>\n",
       "      <td>192378571</td>\n",
       "      <td>sandyA_fake_09</td>\n",
       "      <td>CarlosVerareal</td>\n",
       "      <td>Mon Oct 29 19:11:23 +0000 2012</td>\n",
       "      <td>fake</td>\n",
       "      <td>milenagimon look at sandy in ny tremendous ima...</td>\n",
       "      <td>1</td>\n",
       "    </tr>\n",
       "    <tr>\n",
       "      <th>2</th>\n",
       "      <td>2.630000e+17</td>\n",
       "      <td>Buena la foto del Huracán Sandy, me recuerda a...</td>\n",
       "      <td>132303095</td>\n",
       "      <td>sandyA_fake_09</td>\n",
       "      <td>LucasPalape</td>\n",
       "      <td>Mon Oct 29 18:11:08 +0000 2012</td>\n",
       "      <td>fake</td>\n",
       "      <td>good the photo of hurricane sandy reminds me o...</td>\n",
       "      <td>1</td>\n",
       "    </tr>\n",
       "    <tr>\n",
       "      <th>3</th>\n",
       "      <td>2.630000e+17</td>\n",
       "      <td>Scary shit #hurricane #NY</td>\n",
       "      <td>241995902</td>\n",
       "      <td>sandyA_fake_29</td>\n",
       "      <td>Haaaaarryyy</td>\n",
       "      <td>Mon Oct 29 19:15:33 +0000 2012</td>\n",
       "      <td>fake</td>\n",
       "      <td>scary shit hurricane ny</td>\n",
       "      <td>1</td>\n",
       "    </tr>\n",
       "    <tr>\n",
       "      <th>4</th>\n",
       "      <td>2.630000e+17</td>\n",
       "      <td>My fave place in the world #nyc #hurricane #sa...</td>\n",
       "      <td>250315890</td>\n",
       "      <td>sandyA_fake_15</td>\n",
       "      <td>princess__natt</td>\n",
       "      <td>Mon Oct 29 20:46:02 +0000 2012</td>\n",
       "      <td>fake</td>\n",
       "      <td>my have place in the world nyc hurricane sandy...</td>\n",
       "      <td>1</td>\n",
       "    </tr>\n",
       "    <tr>\n",
       "      <th>5</th>\n",
       "      <td>2.630000e+17</td>\n",
       "      <td>42nd #time #square #NYC #subway #hurricane</td>\n",
       "      <td>163674788</td>\n",
       "      <td>sandyA_fake_23</td>\n",
       "      <td>classycg</td>\n",
       "      <td>Tue Oct 30 19:39:10 +0000 2012</td>\n",
       "      <td>fake</td>\n",
       "      <td>nd time square nyc subway hurricane</td>\n",
       "      <td>1</td>\n",
       "    </tr>\n",
       "    <tr>\n",
       "      <th>6</th>\n",
       "      <td>2.630000e+17</td>\n",
       "      <td>Just in time for #halloween a photo of #hurric...</td>\n",
       "      <td>246153081</td>\n",
       "      <td>sandyA_fake_14</td>\n",
       "      <td>j_unit87</td>\n",
       "      <td>Mon Oct 29 14:41:04 +0000 2012</td>\n",
       "      <td>fake</td>\n",
       "      <td>just in time for halloween a photo of hurrican...</td>\n",
       "      <td>1</td>\n",
       "    </tr>\n",
       "    <tr>\n",
       "      <th>7</th>\n",
       "      <td>2.630000e+17</td>\n",
       "      <td>Crazy pic of #Hurricane #Sandy prayers go out ...</td>\n",
       "      <td>199565482</td>\n",
       "      <td>sandyA_fake_29</td>\n",
       "      <td>MrBlakMagik</td>\n",
       "      <td>Tue Oct 30 16:46:52 +0000 2012</td>\n",
       "      <td>fake</td>\n",
       "      <td>crazy pic of hurricane sandy prayers go out to...</td>\n",
       "      <td>1</td>\n",
       "    </tr>\n",
       "    <tr>\n",
       "      <th>8</th>\n",
       "      <td>2.630000e+17</td>\n",
       "      <td>#sandy #newyork #hurricane #statueofliberty #USA</td>\n",
       "      <td>78475739</td>\n",
       "      <td>sandyA_fake_15</td>\n",
       "      <td>safi37</td>\n",
       "      <td>Tue Oct 30 02:54:46 +0000 2012</td>\n",
       "      <td>fake</td>\n",
       "      <td>sandy newyork hurricane statueofliberty usa</td>\n",
       "      <td>1</td>\n",
       "    </tr>\n",
       "    <tr>\n",
       "      <th>9</th>\n",
       "      <td>2.630000e+17</td>\n",
       "      <td>#nyc #hurricane</td>\n",
       "      <td>869777653</td>\n",
       "      <td>sandyA_fake_29</td>\n",
       "      <td>kingmichael03</td>\n",
       "      <td>Mon Oct 29 17:59:59 +0000 2012</td>\n",
       "      <td>fake</td>\n",
       "      <td>nyc hurricane</td>\n",
       "      <td>1</td>\n",
       "    </tr>\n",
       "  </tbody>\n",
       "</table>\n",
       "</div>"
      ],
      "text/plain": [
       "        tweetId                                          tweetText     userId  \\\n",
       "0  2.630000e+17  ¿Se acuerdan de la película: “El día después d...   21226711   \n",
       "1  2.630000e+17  @milenagimon: Miren a Sandy en NY!  Tremenda i...  192378571   \n",
       "2  2.630000e+17  Buena la foto del Huracán Sandy, me recuerda a...  132303095   \n",
       "3  2.630000e+17                         Scary shit #hurricane #NY   241995902   \n",
       "4  2.630000e+17  My fave place in the world #nyc #hurricane #sa...  250315890   \n",
       "5  2.630000e+17        42nd #time #square #NYC #subway #hurricane   163674788   \n",
       "6  2.630000e+17  Just in time for #halloween a photo of #hurric...  246153081   \n",
       "7  2.630000e+17  Crazy pic of #Hurricane #Sandy prayers go out ...  199565482   \n",
       "8  2.630000e+17  #sandy #newyork #hurricane #statueofliberty #USA    78475739   \n",
       "9  2.630000e+17                                   #nyc #hurricane   869777653   \n",
       "\n",
       "       imageId(s)        username                       timestamp label  \\\n",
       "0  sandyA_fake_46         iAnnieM  Mon Oct 29 22:34:01 +0000 2012  fake   \n",
       "1  sandyA_fake_09  CarlosVerareal  Mon Oct 29 19:11:23 +0000 2012  fake   \n",
       "2  sandyA_fake_09     LucasPalape  Mon Oct 29 18:11:08 +0000 2012  fake   \n",
       "3  sandyA_fake_29     Haaaaarryyy  Mon Oct 29 19:15:33 +0000 2012  fake   \n",
       "4  sandyA_fake_15  princess__natt  Mon Oct 29 20:46:02 +0000 2012  fake   \n",
       "5  sandyA_fake_23        classycg  Tue Oct 30 19:39:10 +0000 2012  fake   \n",
       "6  sandyA_fake_14        j_unit87  Mon Oct 29 14:41:04 +0000 2012  fake   \n",
       "7  sandyA_fake_29     MrBlakMagik  Tue Oct 30 16:46:52 +0000 2012  fake   \n",
       "8  sandyA_fake_15          safi37  Tue Oct 30 02:54:46 +0000 2012  fake   \n",
       "9  sandyA_fake_29   kingmichael03  Mon Oct 29 17:59:59 +0000 2012  fake   \n",
       "\n",
       "                                           cleanText  frequency  \n",
       "0  they remember the movie the day after tomorrow...          1  \n",
       "1  milenagimon look at sandy in ny tremendous ima...          1  \n",
       "2  good the photo of hurricane sandy reminds me o...          1  \n",
       "3                            scary shit hurricane ny          1  \n",
       "4  my have place in the world nyc hurricane sandy...          1  \n",
       "5                nd time square nyc subway hurricane          1  \n",
       "6  just in time for halloween a photo of hurrican...          1  \n",
       "7  crazy pic of hurricane sandy prayers go out to...          1  \n",
       "8        sandy newyork hurricane statueofliberty usa          1  \n",
       "9                                      nyc hurricane          1  "
      ]
     },
     "execution_count": 17,
     "metadata": {},
     "output_type": "execute_result"
    }
   ],
   "source": [
    "df_train['cleanText'] = df_train['cleanText'].apply(lambda text: \" \".join(text.split()))\n",
    "df_train.head(10)"
   ]
  },
  {
   "cell_type": "markdown",
   "id": "18814d2d-25da-4ed3-bddd-95c41fc9237e",
   "metadata": {},
   "source": [
    "## Training Algorithms"
   ]
  },
  {
   "cell_type": "markdown",
   "id": "8c63e6cc-f23e-4f43-bbcb-9351eebe4215",
   "metadata": {},
   "source": [
    "#### Importing neccessary modules"
   ]
  },
  {
   "cell_type": "code",
   "execution_count": 50,
   "id": "8d833421-4a11-4c01-ab85-e3f0e313bdeb",
   "metadata": {},
   "outputs": [],
   "source": [
    "from sklearn.feature_extraction.text import TfidfVectorizer\n",
    "from sklearn.naive_bayes import MultinomialNB\n",
    "from sklearn.tree import DecisionTreeClassifier\n",
    "from sklearn.ensemble import RandomForestClassifier\n",
    "from sklearn.neighbors import KNeighborsClassifier\n",
    "from sklearn.linear_model import LogisticRegressionCV\n",
    "from sklearn import metrics\n",
    "import seaborn as sn"
   ]
  },
  {
   "cell_type": "markdown",
   "id": "8a920689-f04d-4e3f-b449-f0f2aa466246",
   "metadata": {},
   "source": [
    "#### Define features and target for training and testing"
   ]
  },
  {
   "cell_type": "code",
   "execution_count": 19,
   "id": "8ac193f7-35e0-4349-ae6f-009bf78725be",
   "metadata": {},
   "outputs": [],
   "source": [
    "tar_train = df_train.label\n",
    "ft_train = df_train.cleanText\n",
    "tar_test = df_test.label\n",
    "ft_test = df_test.cleanText"
   ]
  },
  {
   "cell_type": "markdown",
   "id": "da7c3ecc-f0e2-4699-864a-30fd3779cd13",
   "metadata": {},
   "source": [
    "#### Using TF-IDF For Feature Extraction"
   ]
  },
  {
   "cell_type": "code",
   "execution_count": 20,
   "id": "d9d58fb4-602e-490c-9281-3d4f07978a44",
   "metadata": {},
   "outputs": [],
   "source": [
    "tfidf_vectoriser = TfidfVectorizer(stop_words='english', max_df=0.2)\n",
    "tfidf_train = tfidf_vectoriser.fit_transform(ft_train)\n",
    "tfidf_test = tfidf_vectoriser.transform(ft_test)"
   ]
  },
  {
   "cell_type": "markdown",
   "id": "41166c98-5c9e-4a28-901c-0b2af6bd126a",
   "metadata": {},
   "source": [
    "#### Analysis Visualization Helper Method"
   ]
  },
  {
   "cell_type": "code",
   "execution_count": 36,
   "id": "5549ff74-8841-4c13-97c0-db6071658311",
   "metadata": {},
   "outputs": [],
   "source": [
    "def analysis(trueY, predY):\n",
    "    score = metrics.accuracy_score(trueY, predY)\n",
    "    precision = metrics.precision_score(trueY, predY, pos_label=\"real\")\n",
    "    recall = metrics.recall_score(trueY, predY, pos_label=\"real\")\n",
    "    f1_score = metrics.f1_score(trueY, predY, pos_label=\"real\")\n",
    "    cm = metrics.confusion_matrix(trueY, predY)\n",
    "    df_cm = pandas.DataFrame(cm, [\"fake\",\"real\"], [\"fake\",\"real\"])\n",
    "    sn.set(font_scale=1.4) # for label size\n",
    "    ax = sn.heatmap(df_cm, annot=True, annot_kws={\"size\": 16}, fmt='d') # font size\n",
    "    ax.set(xlabel='True Value', \n",
    "           ylabel='Predicted Value')\n",
    "    print(\"accuracy:   %0.3f\" % score)\n",
    "    print(\"Precison:\", precision)\n",
    "    print(\"Recall:\", recall)\n",
    "    print(\"F1 Score:\", f1_score)\n",
    "    print(\"Confusion matrix\")\n",
    "    plt.show()"
   ]
  },
  {
   "cell_type": "markdown",
   "id": "d00839b8-637f-416a-ad3b-af503cf61be7",
   "metadata": {},
   "source": [
    "#### Algorithm #1: MultinomialNB"
   ]
  },
  {
   "cell_type": "code",
   "execution_count": 44,
   "id": "d08eece2-6b63-47b0-b391-0f41a1e8aae9",
   "metadata": {},
   "outputs": [
    {
     "name": "stdout",
     "output_type": "stream",
     "text": [
      "accuracy:   0.628\n",
      "Precison: 0.45280161534578495\n",
      "Recall: 0.7419354838709677\n",
      "F1 Score: 0.5623824451410658\n",
      "Confusion matrix\n"
     ]
    },
    {
     "data": {
      "image/png": "[encoded data removed]",
      "text/plain": [
       "<Figure size 640x480 with 2 Axes>"
      ]
     },
     "metadata": {},
     "output_type": "display_data"
    }
   ],
   "source": [
    "multinomailNB_clf = MultinomialNB()\n",
    "multinomailNB_clf.fit(tfidf_train, tar_train)\n",
    "multinomailNB_pred = clf.predict(tfidf_test)\n",
    "\n",
    "analysis(tar_test, multinomailNB_pred)"
   ]
  },
  {
   "cell_type": "markdown",
   "id": "459225a7-21bb-47c6-9c57-dacd2d5e1de9",
   "metadata": {},
   "source": [
    "#### Algorithm #2: DecisionTreeClassifier"
   ]
  },
  {
   "cell_type": "code",
   "execution_count": 39,
   "id": "693a5ec3-cea8-4fa6-a8b0-d13b190c74f0",
   "metadata": {},
   "outputs": [
    {
     "name": "stdout",
     "output_type": "stream",
     "text": [
      "accuracy:   0.654\n",
      "Precison: 0.3521594684385382\n",
      "Recall: 0.08767576509511993\n",
      "F1 Score: 0.14039735099337747\n",
      "Confusion matrix\n"
     ]
    },
    {
     "data": {
      "image/png": "[encoded data removed]",
      "text/plain": [
       "<Figure size 640x480 with 2 Axes>"
      ]
     },
     "metadata": {},
     "output_type": "display_data"
    }
   ],
   "source": [
    "tree_clf = DecisionTreeClassifier()\n",
    "tree_clf.fit(tfidf_train, tar_train)\n",
    "tree_pred = tree_clf.predict(tfidf_test)\n",
    "\n",
    "analysis(tar_test, tree_pred)"
   ]
  },
  {
   "cell_type": "markdown",
   "id": "9893312d-824e-4b44-8cf1-781b6d9c704d",
   "metadata": {},
   "source": [
    "#### Algorithm #3: RandomForestClassifier"
   ]
  },
  {
   "cell_type": "code",
   "execution_count": 42,
   "id": "324144e1-5b69-4f2f-b6d2-47adc4c485c1",
   "metadata": {},
   "outputs": [
    {
     "name": "stdout",
     "output_type": "stream",
     "text": [
      "accuracy:   0.662\n",
      "Precison: 0.3132530120481928\n",
      "Recall: 0.043010752688172046\n",
      "F1 Score: 0.07563636363636364\n",
      "Confusion matrix\n"
     ]
    },
    {
     "data": {
      "image/png": "[encoded data removed]",
      "text/plain": [
       "<Figure size 640x480 with 2 Axes>"
      ]
     },
     "metadata": {},
     "output_type": "display_data"
    }
   ],
   "source": [
    "rfc_clf = RandomForestClassifier()\n",
    "rfc_clf.fit(tfidf_train, tar_train)\n",
    "rfc_pred = rfc_clf.predict(tfidf_test)\n",
    "\n",
    "analysis(tar_test, rfc_pred)"
   ]
  },
  {
   "cell_type": "markdown",
   "id": "c9ef73c8-c64c-4f91-ad85-4674694e5087",
   "metadata": {},
   "source": [
    "#### Algorithm #4: KNeighborsClassifier"
   ]
  },
  {
   "cell_type": "code",
   "execution_count": 49,
   "id": "b2179f50-1ce0-4e2d-af80-49faea9d6800",
   "metadata": {},
   "outputs": [
    {
     "name": "stdout",
     "output_type": "stream",
     "text": [
      "accuracy:   0.674\n",
      "Precison: 0.1\n",
      "Recall: 0.0016542597187758478\n",
      "F1 Score: 0.0032546786004882017\n",
      "Confusion matrix\n"
     ]
    },
    {
     "data": {
      "image/png": "[encoded data removed]",
      "text/plain": [
       "<Figure size 640x480 with 2 Axes>"
      ]
     },
     "metadata": {},
     "output_type": "display_data"
    }
   ],
   "source": [
    "kn_clf = KNeighborsClassifier(n_neighbors=7)\n",
    "kn_clf.fit(tfidf_train, tar_train)\n",
    "knn_pred = kn_clf.predict(tfidf_test)\n",
    "\n",
    "analysis(tar_test, knn_pred)"
   ]
  },
  {
   "cell_type": "markdown",
   "id": "fe1ca90f-a1e3-41c2-b4b2-9b73f77a5b24",
   "metadata": {},
   "source": [
    "#### Algorithm #5: LogisticRegressionCV"
   ]
  },
  {
   "cell_type": "code",
   "execution_count": 53,
   "id": "de72c705-ba81-4700-a3d7-6ffcb8f5698c",
   "metadata": {},
   "outputs": [
    {
     "name": "stdout",
     "output_type": "stream",
     "text": [
      "accuracy:   0.860\n",
      "Precison: 0.8250950570342205\n",
      "Recall: 0.717948717948718\n",
      "F1 Score: 0.7678018575851394\n",
      "Confusion matrix\n"
     ]
    },
    {
     "data": {
      "image/png": "[encoded data removed]",
      "text/plain": [
       "<Figure size 640x480 with 2 Axes>"
      ]
     },
     "metadata": {},
     "output_type": "display_data"
    }
   ],
   "source": [
    "lg_clf = LogisticRegressionCV(cv=5, random_state=0, dual=False, max_iter=7600)\n",
    "lg_clf.fit(tfidf_train, tar_train)\n",
    "lg_pred = lg_clf.predict(tfidf_test)\n",
    "\n",
    "analysis(tar_test, lg_pred)"
   ]
  }
 ],
 "metadata": {
  "kernelspec": {
   "display_name": "Python 3 (ipykernel)",
   "language": "python",
   "name": "python3"
  },
  "language_info": {
   "codemirror_mode": {
    "name": "ipython",
    "version": 3
   },
   "file_extension": ".py",
   "mimetype": "text/x-python",
   "name": "python",
   "nbconvert_exporter": "python",
   "pygments_lexer": "ipython3",
   "version": "3.10.7"
  }
 },
 "nbformat": 4,
 "nbformat_minor": 5
}
